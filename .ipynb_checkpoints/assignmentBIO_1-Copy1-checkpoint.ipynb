{
 "cells": [
  {
   "cell_type": "code",
   "execution_count": 163,
   "id": "fb06eeab",
   "metadata": {},
   "outputs": [],
   "source": [
    "filename =\"./sequence.fasta\""
   ]
  },
  {
   "cell_type": "code",
   "execution_count": 164,
   "id": "065777b6",
   "metadata": {},
   "outputs": [],
   "source": [
    "from Bio import SeqIO"
   ]
  },
  {
   "cell_type": "code",
   "execution_count": 165,
   "id": "b5b9085a",
   "metadata": {},
   "outputs": [],
   "source": [
    "seq_object= SeqIO.read(filename,\"fasta\")\n"
   ]
  },
  {
   "cell_type": "code",
   "execution_count": 166,
   "id": "00cb38df",
   "metadata": {},
   "outputs": [
    {
     "name": "stdout",
     "output_type": "stream",
     "text": [
      "NM_001101.5 Homo sapiens actin beta (ACTB), mRNA\n"
     ]
    }
   ],
   "source": [
    "print(seq_object.description)"
   ]
  },
  {
   "cell_type": "code",
   "execution_count": 167,
   "id": "9a8b8c2b",
   "metadata": {},
   "outputs": [
    {
     "name": "stdout",
     "output_type": "stream",
     "text": [
      "1812\n"
     ]
    }
   ],
   "source": [
    "sequence= seq_object.seq\n",
    "print(len(sequence))"
   ]
  },
  {
   "cell_type": "code",
   "execution_count": 168,
   "id": "51920985",
   "metadata": {},
   "outputs": [],
   "source": [
    "import random\n",
    "def truncate_sequence(sequence):\n",
    "    if len(sequence) > 400:\n",
    "        # Calculate number of deletions required\n",
    "        num_deletions = len(sequence) - 400\n",
    "        # Randomly select positions to delete\n",
    "        delete_positions = random.sample(range(len(sequence)), num_deletions)\n",
    "        # Create truncated sequence\n",
    "        truncated_sequence = ''.join([sequence[i] for i in range(len(sequence)) if i not in delete_positions])\n",
    "        return truncated_sequence\n",
    "    else:\n",
    "        return sequence\n",
    "\n",
    "# Function to introduce mutations based on specified rules\n",
    "def introduce_mutations(sequence, k):\n",
    "    # Insertions\n",
    "    for _ in range(k):\n",
    "        pos = random.randint(0, len(sequence))\n",
    "        sequence = sequence[:pos] + random.choice('ACGT') + sequence[pos:]\n",
    "    \n",
    "    # Deletions\n",
    "    for _ in range(k):\n",
    "        pos = random.randint(0, len(sequence) - 1)\n",
    "        sequence = sequence[:pos] + sequence[pos+1:]\n",
    "    \n",
    "    # Single-point mutations\n",
    "    for _ in range(k):\n",
    "        pos = random.randint(0, len(sequence) - 1)\n",
    "        sequence = sequence[:pos] + random.choice('ACGT'.replace(sequence[pos], '')) + sequence[pos+1:]\n",
    "    \n",
    "    # Generate X1 variant\n",
    "    start1 = 2 * k\n",
    "    repeat_seq1 = sequence[start1:start1 + k]  # Subsequence starting at 2k\n",
    "    start2 = 400 - 2 * k\n",
    "    delete_seq1 = sequence[start2:start2 + k]  # Subsequence starting at 400-2k\n",
    "\n",
    "    X1 = sequence[:start2] + repeat_seq1 + sequence[start2:]  # Insert repeat_seq1\n",
    "    X1 = X1.replace(delete_seq1, '')  # Delete delete_seq1 from X1\n",
    "\n",
    "    # Generate X2 variant\n",
    "    start3 = 400 - 2 * k\n",
    "    repeat_seq2 = sequence[start3:start3 + k]  # Subsequence starting at 400-2k\n",
    "    start4 = 2 * k\n",
    "    delete_seq2 = sequence[start4:start4 + k]  # Subsequence starting at 2k\n",
    "\n",
    "    X2 = sequence[:start4] + repeat_seq2 + sequence[start4:]  # Insert repeat_seq2\n",
    "    X2 = X2.replace(delete_seq2, '')  # Delete delete_seq2 from X2\n",
    "\n",
    "    return X1, X2\n",
    "\n",
    "\n"
   ]
  },
  {
   "cell_type": "code",
   "execution_count": 169,
   "id": "fb0f1d86",
   "metadata": {},
   "outputs": [
    {
     "name": "stdout",
     "output_type": "stream",
     "text": [
      "400\n"
     ]
    }
   ],
   "source": [
    "truncated_sequence = truncate_sequence(sequence)\n",
    "print(len(truncated_sequence))\n"
   ]
  },
  {
   "cell_type": "code",
   "execution_count": 170,
   "id": "742b1749",
   "metadata": {},
   "outputs": [
    {
     "name": "stdout",
     "output_type": "stream",
     "text": [
      "GCGCGGCTCCGCCACGCCTCATGACCCGCAGAGCCGGCCCCCCCCATAGGGCGATTCGCGAGCCGACGTACTGCGACCTAGGGAGAGGCTGCCCCAGACGACCCCTCGTGCCCCGGAACGCTCTCCCGTCACGTCACAGGCCCGTCCAGCGAGGAGCGATACCCCGTCCCCCCCCTCCGCGCGATTACTCTGCAGATCCTTTCGCGCACTCACTCGGGCGTGAAGTGCTCACTTAACCTGGTACCCTCGCTGGGTCACGAAATCGTCATCCAAATGTAGATTGCTACAAGGGATATGTTTGTTTTTTTACGAGCGATGTTGCCAAGGTAGTGTCTGATCTCCCATCTGGCACCGGTTTGAGTTTTTGTTATGCCCTTTCCGACTTGGGGCTCTAGACAAG\n"
     ]
    }
   ],
   "source": [
    "print(truncated_sequence)"
   ]
  },
  {
   "cell_type": "code",
   "execution_count": 171,
   "id": "8215337f",
   "metadata": {},
   "outputs": [
    {
     "name": "stdout",
     "output_type": "stream",
     "text": [
      "GCGCGGCTCCGCCACGCCTCATGACCCGCAGAGCCGGCCCCCCCCATAGGGCGATTCGCGAGCCGACGTACTGCGACCTAGGGAGAGGCTGCCCCAGACGACCCCTCGTGCCCCGGAACGCTCTCCCGTCACGTCACAGGCCCGTCCAGCGAGGAGCGATACCCCGTCCCCCCCCTCCGCGCGATTACTCTGCAGATCCTTTCGCGCACTCACTCGGGCGTGAAGTGCTCACTTAACCTGGTACCCTCGCTGGGTCACGAAATCGTCATCCAAATGTAGATTGCTACAAGGGATATGTTTGTTTTTTTACGAGCGATGTTGCCAAGGTAGTGTCTGATCTCCCATCTGGCACCGGTTTGAGTTTTTGTTATGCCCTTTCCGACTTGGGGCTCTAGACAAG\n",
      "\n",
      "Variant X1:\n",
      "GCGCGGCTCCGCCACGCATCATGACCGCAGAGCCGGCCCCCCCCATAGGGCGATTCGGAGCCGACGTACGCGACCTAGGGACGAGGCGCCCAGACGACCCCGCGTGCACCGGAACAGCTCTCCCGTCACGTCACAGGCCTGTCCAGTAGAGGAGCGATACCCGTCCCCCCCCTCCGCGCGAGTACTCTGCAGATCCTTTCGCGCACTCACTAGGGCGTGAAGTTCTCACCTTAACCTGGTACCCTCGCTGGGGTCACGAAATCGTCATCCAAATGTAGATGCTACAAGGATATGTTTGTTTTTTACGAACGATGTTGCCAAGGTTAGGTGTCTGATCTCCCATCTGGGCACCGGTCTTGAGATTTTGTTATGCCCTTTCCATGACCGCAGTCTAGACAAG\n",
      "\n",
      "Variant X2:\n",
      "GCGCGGCTCCGCCACGCATCGACTTGGGGCAGCCGGCCCCCCCCATAGGGCGATTCGGAGCCGACGTACGCGACCTAGGGACGAGGCGCCCAGACGACCCCGCGTGCACCGGAACAGCTCTCCCGTCACGTCACAGGCCTGTCCAGTAGAGGAGCGATACCCGTCCCCCCCCTCCGCGCGAGTACTCTGCAGATCCTTTCGCGCACTCACTAGGGCGTGAAGTTCTCACCTTAACCTGGTACCCTCGCTGGGGTCACGAAATCGTCATCCAAATGTAGATGCTACAAGGATATGTTTGTTTTTTACGAACGATGTTGCCAAGGTTAGGTGTCTGATCTCCCATCTGGGCACCGGTCTTGAGATTTTGTTATGCCCTTTCCGACTTGGGGCTCTAGACAAG\n"
     ]
    }
   ],
   "source": [
    "k = 10\n",
    "X1, X2 = introduce_mutations(truncated_sequence, k)\n",
    "\n",
    "print(truncated_sequence)\n",
    "print(\"\\nVariant X1:\")\n",
    "print(X1)\n",
    "print(\"\\nVariant X2:\")\n",
    "print(X2)\n"
   ]
  },
  {
   "cell_type": "code",
   "execution_count": 172,
   "id": "2170bb0a",
   "metadata": {},
   "outputs": [],
   "source": [
    "from Bio import pairwise2\n",
    "from Bio.Seq import Seq\n",
    "from Bio import SeqIO\n",
    "\n",
    "# Function to perform Needleman-Wunsch alignment\n",
    "def needleman_wunsch_alignment(seq1, seq2):\n",
    "    alignments = pairwise2.align.globalms(seq1, seq2, 1, -1, -1, -1)\n",
    "    best_alignment = alignments[0]\n",
    "    return best_alignment\n",
    "\n",
    "# Function to perform FASTA alignment\n",
    "def fasta_alignment(seq1, seq2):\n",
    "    alignments = pairwise2.align.localms(seq1, seq2, 1, -1, -1, -1)\n",
    "    best_alignment = alignments[0]\n",
    "    return best_alignment\n"
   ]
  },
  {
   "cell_type": "code",
   "execution_count": 173,
   "id": "c0a15673",
   "metadata": {},
   "outputs": [
    {
     "name": "stdout",
     "output_type": "stream",
     "text": [
      "\n",
      "Needleman-Wunsch Alignment:\n",
      "GCGCGGCTCCGCCACGCATCATGACC-GCAG-AGCCGGCCCCCCCCATAGGGCGATTCGGAGCCGACGTACGCGACCTAGGGACGAGGCGCCCAGACGACCCCGCGTGCACCGGAACAGCTCTCCCGTCACGTCACAGGCCTGTCCAGTAGAGGAGCGATACCCGTCCCCCCCCTCCGCGCGAGTACTCTGCAGATCCTTTCGCGCACTCACTAGGGCGTGAAGTTCTCACCTTAACCTGGTACCCTCGCTGGGGTCACGAAATCGTCATCCAAATGTAGATGCTACAAGGATATGTTTGTTTTTTACGAACGATGTTGCCAAGGTTAGGTGTCTGATCTCCCATCTGGGCACCGGTCTTGAGATTTTGTTATGCCCTTTCCATGACC-GCAG-TCTAGACAAG\n",
      "||||||||||||||||||||  |||. |..| ||||||||||||||||||||||||||||||||||||||||||||||||||||||||||||||||||||||||||||||||||||||||||||||||||||||||||||||||||||||||||||||||||||||||||||||||||||||||||||||||||||||||||||||||||||||||||||||||||||||||||||||||||||||||||||||||||||||||||||||||||||||||||||||||||||||||||||||||||||||||||||||||||||||||||||||||||||||||||||||||||||||||||||||||||||||||||||||  |||. |..| ||||||||||\n",
      "GCGCGGCTCCGCCACGCATC--GACTTGGGGCAGCCGGCCCCCCCCATAGGGCGATTCGGAGCCGACGTACGCGACCTAGGGACGAGGCGCCCAGACGACCCCGCGTGCACCGGAACAGCTCTCCCGTCACGTCACAGGCCTGTCCAGTAGAGGAGCGATACCCGTCCCCCCCCTCCGCGCGAGTACTCTGCAGATCCTTTCGCGCACTCACTAGGGCGTGAAGTTCTCACCTTAACCTGGTACCCTCGCTGGGGTCACGAAATCGTCATCCAAATGTAGATGCTACAAGGATATGTTTGTTTTTTACGAACGATGTTGCCAAGGTTAGGTGTCTGATCTCCCATCTGGGCACCGGTCTTGAGATTTTGTTATGCCCTTTCC--GACTTGGGGCTCTAGACAAG\n",
      "  Score=376\n",
      "\n",
      "\n",
      "FASTA Alignment:\n",
      "GCGCGGCTCCGCCACGCATCATGACC-GCAG-AGCCGGCCCCCCCCATAGGGCGATTCGGAGCCGACGTACGCGACCTAGGGACGAGGCGCCCAGACGACCCCGCGTGCACCGGAACAGCTCTCCCGTCACGTCACAGGCCTGTCCAGTAGAGGAGCGATACCCGTCCCCCCCCTCCGCGCGAGTACTCTGCAGATCCTTTCGCGCACTCACTAGGGCGTGAAGTTCTCACCTTAACCTGGTACCCTCGCTGGGGTCACGAAATCGTCATCCAAATGTAGATGCTACAAGGATATGTTTGTTTTTTACGAACGATGTTGCCAAGGTTAGGTGTCTGATCTCCCATCTGGGCACCGGTCTTGAGATTTTGTTATGCCCTTTCCATGACC-GCAG-TCTAGACAAG\n",
      "||||||||||||||||||||  |||. |..| ||||||||||||||||||||||||||||||||||||||||||||||||||||||||||||||||||||||||||||||||||||||||||||||||||||||||||||||||||||||||||||||||||||||||||||||||||||||||||||||||||||||||||||||||||||||||||||||||||||||||||||||||||||||||||||||||||||||||||||||||||||||||||||||||||||||||||||||||||||||||||||||||||||||||||||||||||||||||||||||||||||||||||||||||||||||||||||||  |||. |..| ||||||||||\n",
      "GCGCGGCTCCGCCACGCATC--GACTTGGGGCAGCCGGCCCCCCCCATAGGGCGATTCGGAGCCGACGTACGCGACCTAGGGACGAGGCGCCCAGACGACCCCGCGTGCACCGGAACAGCTCTCCCGTCACGTCACAGGCCTGTCCAGTAGAGGAGCGATACCCGTCCCCCCCCTCCGCGCGAGTACTCTGCAGATCCTTTCGCGCACTCACTAGGGCGTGAAGTTCTCACCTTAACCTGGTACCCTCGCTGGGGTCACGAAATCGTCATCCAAATGTAGATGCTACAAGGATATGTTTGTTTTTTACGAACGATGTTGCCAAGGTTAGGTGTCTGATCTCCCATCTGGGCACCGGTCTTGAGATTTTGTTATGCCCTTTCC--GACTTGGGGCTCTAGACAAG\n",
      "  Score=376\n",
      "\n"
     ]
    }
   ],
   "source": [
    "alignment_nw = needleman_wunsch_alignment(X1, X2)\n",
    "alignment_fasta = fasta_alignment(X1, X2)\n",
    "\n",
    "print(\"\\nNeedleman-Wunsch Alignment:\")\n",
    "print(pairwise2.format_alignment(*alignment_nw))\n",
    "print(\"\\nFASTA Alignment:\")\n",
    "print(pairwise2.format_alignment(*alignment_fasta))\n",
    "\n"
   ]
  },
  {
   "cell_type": "code",
   "execution_count": 174,
   "id": "aab81c9d",
   "metadata": {
    "scrolled": false
   },
   "outputs": [
    {
     "name": "stdout",
     "output_type": "stream",
     "text": [
      "\n",
      "### Running for k = 20 ###\n",
      "\n",
      "Needleman-Wunsch Alignment (time: 0.0109 seconds, score: 376.0, identity: 96.53%):\n",
      "GCGCGGCTCCGCCACGCATCATGACC-GCAG-AGCCGGCCCCCCCCATAGGGCGATTCGGAGCCGACGTACGCGACCTAGGGACGAGGCGCCCAGACGACCCCGCGTGCACCGGAACAGCTCTCCCGTCACGTCACAGGCCTGTCCAGTAGAGGAGCGATACCCGTCCCCCCCCTCCGCGCGAGTACTCTGCAGATCCTTTCGCGCACTCACTAGGGCGTGAAGTTCTCACCTTAACCTGGTACCCTCGCTGGGGTCACGAAATCGTCATCCAAATGTAGATGCTACAAGGATATGTTTGTTTTTTACGAACGATGTTGCCAAGGTTAGGTGTCTGATCTCCCATCTGGGCACCGGTCTTGAGATTTTGTTATGCCCTTTCCATGACC-GCAG-TCTAGACAAG\n",
      "||||||||||||||||||||  |||. |..| ||||||||||||||||||||||||||||||||||||||||||||||||||||||||||||||||||||||||||||||||||||||||||||||||||||||||||||||||||||||||||||||||||||||||||||||||||||||||||||||||||||||||||||||||||||||||||||||||||||||||||||||||||||||||||||||||||||||||||||||||||||||||||||||||||||||||||||||||||||||||||||||||||||||||||||||||||||||||||||||||||||||||||||||||||||||||||||||  |||. |..| ||||||||||\n",
      "GCGCGGCTCCGCCACGCATC--GACTTGGGGCAGCCGGCCCCCCCCATAGGGCGATTCGGAGCCGACGTACGCGACCTAGGGACGAGGCGCCCAGACGACCCCGCGTGCACCGGAACAGCTCTCCCGTCACGTCACAGGCCTGTCCAGTAGAGGAGCGATACCCGTCCCCCCCCTCCGCGCGAGTACTCTGCAGATCCTTTCGCGCACTCACTAGGGCGTGAAGTTCTCACCTTAACCTGGTACCCTCGCTGGGGTCACGAAATCGTCATCCAAATGTAGATGCTACAAGGATATGTTTGTTTTTTACGAACGATGTTGCCAAGGTTAGGTGTCTGATCTCCCATCTGGGCACCGGTCTTGAGATTTTGTTATGCCCTTTCC--GACTTGGGGCTCTAGACAAG\n",
      "  Score=376\n",
      "\n",
      "\n",
      "FASTA Alignment (time: 0.0359 seconds, score: 376.0, identity: 96.53%):\n",
      "GCGCGGCTCCGCCACGCATCATGACC-GCAG-AGCCGGCCCCCCCCATAGGGCGATTCGGAGCCGACGTACGCGACCTAGGGACGAGGCGCCCAGACGACCCCGCGTGCACCGGAACAGCTCTCCCGTCACGTCACAGGCCTGTCCAGTAGAGGAGCGATACCCGTCCCCCCCCTCCGCGCGAGTACTCTGCAGATCCTTTCGCGCACTCACTAGGGCGTGAAGTTCTCACCTTAACCTGGTACCCTCGCTGGGGTCACGAAATCGTCATCCAAATGTAGATGCTACAAGGATATGTTTGTTTTTTACGAACGATGTTGCCAAGGTTAGGTGTCTGATCTCCCATCTGGGCACCGGTCTTGAGATTTTGTTATGCCCTTTCCATGACC-GCAG-TCTAGACAAG\n",
      "||||||||||||||||||||  |||. |..| ||||||||||||||||||||||||||||||||||||||||||||||||||||||||||||||||||||||||||||||||||||||||||||||||||||||||||||||||||||||||||||||||||||||||||||||||||||||||||||||||||||||||||||||||||||||||||||||||||||||||||||||||||||||||||||||||||||||||||||||||||||||||||||||||||||||||||||||||||||||||||||||||||||||||||||||||||||||||||||||||||||||||||||||||||||||||||||||  |||. |..| ||||||||||\n",
      "GCGCGGCTCCGCCACGCATC--GACTTGGGGCAGCCGGCCCCCCCCATAGGGCGATTCGGAGCCGACGTACGCGACCTAGGGACGAGGCGCCCAGACGACCCCGCGTGCACCGGAACAGCTCTCCCGTCACGTCACAGGCCTGTCCAGTAGAGGAGCGATACCCGTCCCCCCCCTCCGCGCGAGTACTCTGCAGATCCTTTCGCGCACTCACTAGGGCGTGAAGTTCTCACCTTAACCTGGTACCCTCGCTGGGGTCACGAAATCGTCATCCAAATGTAGATGCTACAAGGATATGTTTGTTTTTTACGAACGATGTTGCCAAGGTTAGGTGTCTGATCTCCCATCTGGGCACCGGTCTTGAGATTTTGTTATGCCCTTTCC--GACTTGGGGCTCTAGACAAG\n",
      "  Score=376\n",
      "\n",
      "\n",
      "### Running for k = 30 ###\n",
      "\n",
      "Needleman-Wunsch Alignment (time: 0.0066 seconds, score: 376.0, identity: 96.53%):\n",
      "GCGCGGCTCCGCCACGCATCATGACC-GCAG-AGCCGGCCCCCCCCATAGGGCGATTCGGAGCCGACGTACGCGACCTAGGGACGAGGCGCCCAGACGACCCCGCGTGCACCGGAACAGCTCTCCCGTCACGTCACAGGCCTGTCCAGTAGAGGAGCGATACCCGTCCCCCCCCTCCGCGCGAGTACTCTGCAGATCCTTTCGCGCACTCACTAGGGCGTGAAGTTCTCACCTTAACCTGGTACCCTCGCTGGGGTCACGAAATCGTCATCCAAATGTAGATGCTACAAGGATATGTTTGTTTTTTACGAACGATGTTGCCAAGGTTAGGTGTCTGATCTCCCATCTGGGCACCGGTCTTGAGATTTTGTTATGCCCTTTCCATGACC-GCAG-TCTAGACAAG\n",
      "||||||||||||||||||||  |||. |..| ||||||||||||||||||||||||||||||||||||||||||||||||||||||||||||||||||||||||||||||||||||||||||||||||||||||||||||||||||||||||||||||||||||||||||||||||||||||||||||||||||||||||||||||||||||||||||||||||||||||||||||||||||||||||||||||||||||||||||||||||||||||||||||||||||||||||||||||||||||||||||||||||||||||||||||||||||||||||||||||||||||||||||||||||||||||||||||||  |||. |..| ||||||||||\n",
      "GCGCGGCTCCGCCACGCATC--GACTTGGGGCAGCCGGCCCCCCCCATAGGGCGATTCGGAGCCGACGTACGCGACCTAGGGACGAGGCGCCCAGACGACCCCGCGTGCACCGGAACAGCTCTCCCGTCACGTCACAGGCCTGTCCAGTAGAGGAGCGATACCCGTCCCCCCCCTCCGCGCGAGTACTCTGCAGATCCTTTCGCGCACTCACTAGGGCGTGAAGTTCTCACCTTAACCTGGTACCCTCGCTGGGGTCACGAAATCGTCATCCAAATGTAGATGCTACAAGGATATGTTTGTTTTTTACGAACGATGTTGCCAAGGTTAGGTGTCTGATCTCCCATCTGGGCACCGGTCTTGAGATTTTGTTATGCCCTTTCC--GACTTGGGGCTCTAGACAAG\n",
      "  Score=376\n",
      "\n",
      "\n",
      "FASTA Alignment (time: 0.0300 seconds, score: 376.0, identity: 96.53%):\n",
      "GCGCGGCTCCGCCACGCATCATGACC-GCAG-AGCCGGCCCCCCCCATAGGGCGATTCGGAGCCGACGTACGCGACCTAGGGACGAGGCGCCCAGACGACCCCGCGTGCACCGGAACAGCTCTCCCGTCACGTCACAGGCCTGTCCAGTAGAGGAGCGATACCCGTCCCCCCCCTCCGCGCGAGTACTCTGCAGATCCTTTCGCGCACTCACTAGGGCGTGAAGTTCTCACCTTAACCTGGTACCCTCGCTGGGGTCACGAAATCGTCATCCAAATGTAGATGCTACAAGGATATGTTTGTTTTTTACGAACGATGTTGCCAAGGTTAGGTGTCTGATCTCCCATCTGGGCACCGGTCTTGAGATTTTGTTATGCCCTTTCCATGACC-GCAG-TCTAGACAAG\n",
      "||||||||||||||||||||  |||. |..| ||||||||||||||||||||||||||||||||||||||||||||||||||||||||||||||||||||||||||||||||||||||||||||||||||||||||||||||||||||||||||||||||||||||||||||||||||||||||||||||||||||||||||||||||||||||||||||||||||||||||||||||||||||||||||||||||||||||||||||||||||||||||||||||||||||||||||||||||||||||||||||||||||||||||||||||||||||||||||||||||||||||||||||||||||||||||||||||  |||. |..| ||||||||||\n",
      "GCGCGGCTCCGCCACGCATC--GACTTGGGGCAGCCGGCCCCCCCCATAGGGCGATTCGGAGCCGACGTACGCGACCTAGGGACGAGGCGCCCAGACGACCCCGCGTGCACCGGAACAGCTCTCCCGTCACGTCACAGGCCTGTCCAGTAGAGGAGCGATACCCGTCCCCCCCCTCCGCGCGAGTACTCTGCAGATCCTTTCGCGCACTCACTAGGGCGTGAAGTTCTCACCTTAACCTGGTACCCTCGCTGGGGTCACGAAATCGTCATCCAAATGTAGATGCTACAAGGATATGTTTGTTTTTTACGAACGATGTTGCCAAGGTTAGGTGTCTGATCTCCCATCTGGGCACCGGTCTTGAGATTTTGTTATGCCCTTTCC--GACTTGGGGCTCTAGACAAG\n",
      "  Score=376\n",
      "\n",
      "\n",
      "### Running for k = 40 ###\n",
      "\n",
      "Needleman-Wunsch Alignment (time: 0.0071 seconds, score: 376.0, identity: 96.53%):\n",
      "GCGCGGCTCCGCCACGCATCATGACC-GCAG-AGCCGGCCCCCCCCATAGGGCGATTCGGAGCCGACGTACGCGACCTAGGGACGAGGCGCCCAGACGACCCCGCGTGCACCGGAACAGCTCTCCCGTCACGTCACAGGCCTGTCCAGTAGAGGAGCGATACCCGTCCCCCCCCTCCGCGCGAGTACTCTGCAGATCCTTTCGCGCACTCACTAGGGCGTGAAGTTCTCACCTTAACCTGGTACCCTCGCTGGGGTCACGAAATCGTCATCCAAATGTAGATGCTACAAGGATATGTTTGTTTTTTACGAACGATGTTGCCAAGGTTAGGTGTCTGATCTCCCATCTGGGCACCGGTCTTGAGATTTTGTTATGCCCTTTCCATGACC-GCAG-TCTAGACAAG\n",
      "||||||||||||||||||||  |||. |..| ||||||||||||||||||||||||||||||||||||||||||||||||||||||||||||||||||||||||||||||||||||||||||||||||||||||||||||||||||||||||||||||||||||||||||||||||||||||||||||||||||||||||||||||||||||||||||||||||||||||||||||||||||||||||||||||||||||||||||||||||||||||||||||||||||||||||||||||||||||||||||||||||||||||||||||||||||||||||||||||||||||||||||||||||||||||||||||||  |||. |..| ||||||||||\n",
      "GCGCGGCTCCGCCACGCATC--GACTTGGGGCAGCCGGCCCCCCCCATAGGGCGATTCGGAGCCGACGTACGCGACCTAGGGACGAGGCGCCCAGACGACCCCGCGTGCACCGGAACAGCTCTCCCGTCACGTCACAGGCCTGTCCAGTAGAGGAGCGATACCCGTCCCCCCCCTCCGCGCGAGTACTCTGCAGATCCTTTCGCGCACTCACTAGGGCGTGAAGTTCTCACCTTAACCTGGTACCCTCGCTGGGGTCACGAAATCGTCATCCAAATGTAGATGCTACAAGGATATGTTTGTTTTTTACGAACGATGTTGCCAAGGTTAGGTGTCTGATCTCCCATCTGGGCACCGGTCTTGAGATTTTGTTATGCCCTTTCC--GACTTGGGGCTCTAGACAAG\n",
      "  Score=376\n",
      "\n",
      "\n",
      "FASTA Alignment (time: 0.0302 seconds, score: 376.0, identity: 96.53%):\n",
      "GCGCGGCTCCGCCACGCATCATGACC-GCAG-AGCCGGCCCCCCCCATAGGGCGATTCGGAGCCGACGTACGCGACCTAGGGACGAGGCGCCCAGACGACCCCGCGTGCACCGGAACAGCTCTCCCGTCACGTCACAGGCCTGTCCAGTAGAGGAGCGATACCCGTCCCCCCCCTCCGCGCGAGTACTCTGCAGATCCTTTCGCGCACTCACTAGGGCGTGAAGTTCTCACCTTAACCTGGTACCCTCGCTGGGGTCACGAAATCGTCATCCAAATGTAGATGCTACAAGGATATGTTTGTTTTTTACGAACGATGTTGCCAAGGTTAGGTGTCTGATCTCCCATCTGGGCACCGGTCTTGAGATTTTGTTATGCCCTTTCCATGACC-GCAG-TCTAGACAAG\n",
      "||||||||||||||||||||  |||. |..| ||||||||||||||||||||||||||||||||||||||||||||||||||||||||||||||||||||||||||||||||||||||||||||||||||||||||||||||||||||||||||||||||||||||||||||||||||||||||||||||||||||||||||||||||||||||||||||||||||||||||||||||||||||||||||||||||||||||||||||||||||||||||||||||||||||||||||||||||||||||||||||||||||||||||||||||||||||||||||||||||||||||||||||||||||||||||||||||  |||. |..| ||||||||||\n",
      "GCGCGGCTCCGCCACGCATC--GACTTGGGGCAGCCGGCCCCCCCCATAGGGCGATTCGGAGCCGACGTACGCGACCTAGGGACGAGGCGCCCAGACGACCCCGCGTGCACCGGAACAGCTCTCCCGTCACGTCACAGGCCTGTCCAGTAGAGGAGCGATACCCGTCCCCCCCCTCCGCGCGAGTACTCTGCAGATCCTTTCGCGCACTCACTAGGGCGTGAAGTTCTCACCTTAACCTGGTACCCTCGCTGGGGTCACGAAATCGTCATCCAAATGTAGATGCTACAAGGATATGTTTGTTTTTTACGAACGATGTTGCCAAGGTTAGGTGTCTGATCTCCCATCTGGGCACCGGTCTTGAGATTTTGTTATGCCCTTTCC--GACTTGGGGCTCTAGACAAG\n",
      "  Score=376\n",
      "\n",
      "\n",
      "### Running for k = 50 ###\n",
      "\n",
      "Needleman-Wunsch Alignment (time: 0.0064 seconds, score: 376.0, identity: 96.53%):\n",
      "GCGCGGCTCCGCCACGCATCATGACC-GCAG-AGCCGGCCCCCCCCATAGGGCGATTCGGAGCCGACGTACGCGACCTAGGGACGAGGCGCCCAGACGACCCCGCGTGCACCGGAACAGCTCTCCCGTCACGTCACAGGCCTGTCCAGTAGAGGAGCGATACCCGTCCCCCCCCTCCGCGCGAGTACTCTGCAGATCCTTTCGCGCACTCACTAGGGCGTGAAGTTCTCACCTTAACCTGGTACCCTCGCTGGGGTCACGAAATCGTCATCCAAATGTAGATGCTACAAGGATATGTTTGTTTTTTACGAACGATGTTGCCAAGGTTAGGTGTCTGATCTCCCATCTGGGCACCGGTCTTGAGATTTTGTTATGCCCTTTCCATGACC-GCAG-TCTAGACAAG\n",
      "||||||||||||||||||||  |||. |..| ||||||||||||||||||||||||||||||||||||||||||||||||||||||||||||||||||||||||||||||||||||||||||||||||||||||||||||||||||||||||||||||||||||||||||||||||||||||||||||||||||||||||||||||||||||||||||||||||||||||||||||||||||||||||||||||||||||||||||||||||||||||||||||||||||||||||||||||||||||||||||||||||||||||||||||||||||||||||||||||||||||||||||||||||||||||||||||||  |||. |..| ||||||||||\n",
      "GCGCGGCTCCGCCACGCATC--GACTTGGGGCAGCCGGCCCCCCCCATAGGGCGATTCGGAGCCGACGTACGCGACCTAGGGACGAGGCGCCCAGACGACCCCGCGTGCACCGGAACAGCTCTCCCGTCACGTCACAGGCCTGTCCAGTAGAGGAGCGATACCCGTCCCCCCCCTCCGCGCGAGTACTCTGCAGATCCTTTCGCGCACTCACTAGGGCGTGAAGTTCTCACCTTAACCTGGTACCCTCGCTGGGGTCACGAAATCGTCATCCAAATGTAGATGCTACAAGGATATGTTTGTTTTTTACGAACGATGTTGCCAAGGTTAGGTGTCTGATCTCCCATCTGGGCACCGGTCTTGAGATTTTGTTATGCCCTTTCC--GACTTGGGGCTCTAGACAAG\n",
      "  Score=376\n",
      "\n",
      "\n",
      "FASTA Alignment (time: 0.0297 seconds, score: 376.0, identity: 96.53%):\n",
      "GCGCGGCTCCGCCACGCATCATGACC-GCAG-AGCCGGCCCCCCCCATAGGGCGATTCGGAGCCGACGTACGCGACCTAGGGACGAGGCGCCCAGACGACCCCGCGTGCACCGGAACAGCTCTCCCGTCACGTCACAGGCCTGTCCAGTAGAGGAGCGATACCCGTCCCCCCCCTCCGCGCGAGTACTCTGCAGATCCTTTCGCGCACTCACTAGGGCGTGAAGTTCTCACCTTAACCTGGTACCCTCGCTGGGGTCACGAAATCGTCATCCAAATGTAGATGCTACAAGGATATGTTTGTTTTTTACGAACGATGTTGCCAAGGTTAGGTGTCTGATCTCCCATCTGGGCACCGGTCTTGAGATTTTGTTATGCCCTTTCCATGACC-GCAG-TCTAGACAAG\n",
      "||||||||||||||||||||  |||. |..| ||||||||||||||||||||||||||||||||||||||||||||||||||||||||||||||||||||||||||||||||||||||||||||||||||||||||||||||||||||||||||||||||||||||||||||||||||||||||||||||||||||||||||||||||||||||||||||||||||||||||||||||||||||||||||||||||||||||||||||||||||||||||||||||||||||||||||||||||||||||||||||||||||||||||||||||||||||||||||||||||||||||||||||||||||||||||||||||  |||. |..| ||||||||||\n",
      "GCGCGGCTCCGCCACGCATC--GACTTGGGGCAGCCGGCCCCCCCCATAGGGCGATTCGGAGCCGACGTACGCGACCTAGGGACGAGGCGCCCAGACGACCCCGCGTGCACCGGAACAGCTCTCCCGTCACGTCACAGGCCTGTCCAGTAGAGGAGCGATACCCGTCCCCCCCCTCCGCGCGAGTACTCTGCAGATCCTTTCGCGCACTCACTAGGGCGTGAAGTTCTCACCTTAACCTGGTACCCTCGCTGGGGTCACGAAATCGTCATCCAAATGTAGATGCTACAAGGATATGTTTGTTTTTTACGAACGATGTTGCCAAGGTTAGGTGTCTGATCTCCCATCTGGGCACCGGTCTTGAGATTTTGTTATGCCCTTTCC--GACTTGGGGCTCTAGACAAG\n",
      "  Score=376\n",
      "\n",
      "\n",
      "### Summary of Results ###\n",
      "k   | NW Time  | NW Score | NW Identity  || FASTA Time | FASTA Score | FASTA Identity\n",
      "------------------------------------------------------------------------------------------\n",
      "20  | 0.0109   | 376.0    | 96.53        || 0.0359     | 376.0       | 96.53         \n",
      "30  | 0.0066   | 376.0    | 96.53        || 0.0300     | 376.0       | 96.53         \n",
      "40  | 0.0071   | 376.0    | 96.53        || 0.0302     | 376.0       | 96.53         \n",
      "50  | 0.0064   | 376.0    | 96.53        || 0.0297     | 376.0       | 96.53         \n"
     ]
    }
   ],
   "source": [
    "import time\n",
    "from Bio import pairwise2\n",
    "\n",
    "# Function to calculate identity\n",
    "def calculate_identity_similarity(alignment):\n",
    "    aligned_seq1, aligned_seq2, score, begin, end = alignment\n",
    "    alignment_length = len(aligned_seq1)\n",
    "    num_identical = sum(1 for i in range(alignment_length) if aligned_seq1[i] == aligned_seq2[i] and aligned_seq1[i] != '-')\n",
    "    identity = num_identical / alignment_length * 100\n",
    "    return identity\n",
    "\n",
    "# List of k values to iterate over\n",
    "k_values = [20, 30, 40, 50]\n",
    "\n",
    "# Storage for results\n",
    "results = []\n",
    "\n",
    "# Iterate over each k value\n",
    "for k in k_values:\n",
    "    print(f\"\\n### Running for k = {k} ###\")\n",
    "\n",
    "    # Measure time and quality for Needleman-Wunsch alignment\n",
    "    start_time = time.time()\n",
    "    alignment_nw = needleman_wunsch_alignment(X1, X2)\n",
    "    nw_time = time.time() - start_time\n",
    "    nw_score = alignment_nw[2]\n",
    "    nw_identity = calculate_identity_similarity(alignment_nw)\n",
    "\n",
    "    # Measure time and quality for FASTA alignment\n",
    "    start_time = time.time()\n",
    "    alignment_fasta = fasta_alignment(X1, X2)\n",
    "    fasta_time = time.time() - start_time\n",
    "    fasta_score = alignment_fasta[2]\n",
    "    fasta_identity = calculate_identity_similarity(alignment_fasta)\n",
    "\n",
    "    # Store results for current k value\n",
    "    results.append({\n",
    "        'k': k,\n",
    "        'NW_time': nw_time,\n",
    "        'NW_score': nw_score,\n",
    "        'NW_identity': nw_identity,\n",
    "        'FASTA_time': fasta_time,\n",
    "        'FASTA_score': fasta_score,\n",
    "        'FASTA_identity': fasta_identity\n",
    "    })\n",
    "\n",
    "    # Print results for current k value\n",
    "    print(f\"\\nNeedleman-Wunsch Alignment (time: {nw_time:.4f} seconds, score: {nw_score}, identity: {nw_identity:.2f}%):\")\n",
    "    print(pairwise2.format_alignment(*alignment_nw))\n",
    "    print(f\"\\nFASTA Alignment (time: {fasta_time:.4f} seconds, score: {fasta_score}, identity: {fasta_identity:.2f}%):\")\n",
    "    print(pairwise2.format_alignment(*alignment_fasta))\n",
    "\n",
    "# Print summary of results side by side\n",
    "print(\"\\n### Summary of Results ###\")\n",
    "print(f\"{'k':<3} | {'NW Time':<8} | {'NW Score':<8} | {'NW Identity':<12} || {'FASTA Time':<10} | {'FASTA Score':<11} | {'FASTA Identity':<14}\")\n",
    "print(\"-\" * 90)\n",
    "for result in results:\n",
    "    print(f\"{result['k']:<3} | {result['NW_time']:<8.4f} | {result['NW_score']:<8} | {result['NW_identity']:<12.2f} || {result['FASTA_time']:<10.4f} | {result['FASTA_score']:<11} | {result['FASTA_identity']:<14.2f}\")\n"
   ]
  }
 ],
 "metadata": {
  "kernelspec": {
   "display_name": "Python 3 (ipykernel)",
   "language": "python",
   "name": "python3"
  },
  "language_info": {
   "codemirror_mode": {
    "name": "ipython",
    "version": 3
   },
   "file_extension": ".py",
   "mimetype": "text/x-python",
   "name": "python",
   "nbconvert_exporter": "python",
   "pygments_lexer": "ipython3",
   "version": "3.10.10"
  }
 },
 "nbformat": 4,
 "nbformat_minor": 5
}
