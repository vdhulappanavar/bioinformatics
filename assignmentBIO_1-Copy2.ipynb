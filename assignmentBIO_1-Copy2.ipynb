{
 "cells": [
  {
   "cell_type": "code",
   "execution_count": 1,
   "id": "fb06eeab",
   "metadata": {},
   "outputs": [],
   "source": [
    "filename =\"./FGF4_datasets/ncbi_dataset/data/gene.fna\""
   ]
  },
  {
   "cell_type": "code",
   "execution_count": 2,
   "id": "065777b6",
   "metadata": {},
   "outputs": [],
   "source": [
    "from Bio import SeqIO"
   ]
  },
  {
   "cell_type": "code",
   "execution_count": 5,
   "id": "b5b9085a",
   "metadata": {},
   "outputs": [],
   "source": [
    "seq_object= SeqIO.read(filename,\"fasta\")\n"
   ]
  },
  {
   "cell_type": "code",
   "execution_count": 6,
   "id": "00cb38df",
   "metadata": {},
   "outputs": [
    {
     "name": "stdout",
     "output_type": "stream",
     "text": [
      "NC_037356.1:c47003919-47001981 FGF4 [organism=Bos taurus] [GeneID=618474] [chromosome=29]\n"
     ]
    }
   ],
   "source": [
    "print(seq_object.description)"
   ]
  },
  {
   "cell_type": "code",
   "execution_count": 7,
   "id": "9a8b8c2b",
   "metadata": {},
   "outputs": [
    {
     "name": "stdout",
     "output_type": "stream",
     "text": [
      "1939\n"
     ]
    }
   ],
   "source": [
    "sequence= seq_object.seq\n",
    "print(len(sequence))"
   ]
  },
  {
   "cell_type": "code",
   "execution_count": 8,
   "id": "51920985",
   "metadata": {},
   "outputs": [],
   "source": [
    "import random\n",
    "def truncate_sequence(sequence):\n",
    "    if len(sequence) > 400:\n",
    "        # Calculate number of deletions required\n",
    "        num_deletions = len(sequence) - 400\n",
    "        # Randomly select positions to delete\n",
    "        delete_positions = random.sample(range(len(sequence)), num_deletions)\n",
    "        # Create truncated sequence\n",
    "        truncated_sequence = ''.join([sequence[i] for i in range(len(sequence)) if i not in delete_positions])\n",
    "        return truncated_sequence\n",
    "    else:\n",
    "        return sequence\n",
    "\n",
    "# Function to introduce mutations based on specified rules\n",
    "def introduce_mutations(sequence, k):\n",
    "    # Insertions\n",
    "    for _ in range(k):\n",
    "        pos = random.randint(0, len(sequence))\n",
    "        sequence = sequence[:pos] + random.choice('ACGT') + sequence[pos:]\n",
    "    \n",
    "    # Deletions\n",
    "    for _ in range(k):\n",
    "        pos = random.randint(0, len(sequence) - 1)\n",
    "        sequence = sequence[:pos] + sequence[pos+1:]\n",
    "    \n",
    "    # Single-point mutations\n",
    "    for _ in range(k):\n",
    "        pos = random.randint(0, len(sequence) - 1)\n",
    "        sequence = sequence[:pos] + random.choice('ACGT'.replace(sequence[pos], '')) + sequence[pos+1:]\n",
    "    \n",
    "    # Generate X1 variant\n",
    "    start1 = 2 * k\n",
    "    repeat_seq1 = sequence[start1:start1 + k]  # Subsequence starting at 2k\n",
    "    start2 = 400 - 2 * k\n",
    "    delete_seq1 = sequence[start2:start2 + k]  # Subsequence starting at 400-2k\n",
    "\n",
    "    X1 = sequence[:start2] + repeat_seq1 + sequence[start2:]  # Insert repeat_seq1\n",
    "    X1 = X1.replace(delete_seq1, '')  # Delete delete_seq1 from X1\n",
    "\n",
    "    # Generate X2 variant\n",
    "    start3 = 400 - 2 * k\n",
    "    repeat_seq2 = sequence[start3:start3 + k]  # Subsequence starting at 400-2k\n",
    "    start4 = 2 * k\n",
    "    delete_seq2 = sequence[start4:start4 + k]  # Subsequence starting at 2k\n",
    "\n",
    "    X2 = sequence[:start4] + repeat_seq2 + sequence[start4:]  # Insert repeat_seq2\n",
    "    X2 = X2.replace(delete_seq2, '')  # Delete delete_seq2 from X2\n",
    "\n",
    "    return X1, X2\n",
    "\n",
    "\n"
   ]
  },
  {
   "cell_type": "code",
   "execution_count": 9,
   "id": "fb0f1d86",
   "metadata": {},
   "outputs": [
    {
     "name": "stdout",
     "output_type": "stream",
     "text": [
      "400\n"
     ]
    }
   ],
   "source": [
    "truncated_sequence = truncate_sequence(sequence)\n",
    "print(len(truncated_sequence))\n"
   ]
  },
  {
   "cell_type": "code",
   "execution_count": 10,
   "id": "742b1749",
   "metadata": {},
   "outputs": [
    {
     "name": "stdout",
     "output_type": "stream",
     "text": [
      "AGCGGCGCTGGTTGAGGCCCCGCAGGGCGGGGGAGGCCGCCTTGGTTGGCTACGGTGCGGCAGTAGTGTGGCGCCTCCATGTCAGGCGCGCAGTCCGCTACCCGCGAGATCCTTTCGGCGAACCGGGCGAGCAGACCGGCGCCGGCGGACACTCCCCAAGGGGGGGAGCGGTCTCTGAGCGGTGTGCGGGTCCCCGGTAGGCCCGCAGGCCTGGGACGCTCCGTGACTCGGCCTTACGTCTGCCCGCCTTCAACGCGGTCCCCAATGACCACGATCTGGATCAGCCGCCAAGGGGCGCTTAAGTATGTGGGAAACGGGGCGCTTGCTGCTGCTCCGTCGAGCTCAGGAGAGACCGCCAGGTCCTCGGCAACCACCTCCACCCACAAACGCAGAGTCTGGA\n"
     ]
    }
   ],
   "source": [
    "print(truncated_sequence)"
   ]
  },
  {
   "cell_type": "code",
   "execution_count": 11,
   "id": "8215337f",
   "metadata": {},
   "outputs": [
    {
     "name": "stdout",
     "output_type": "stream",
     "text": [
      "AGCGGCGCTGGTTGAGGCCCCGCAGGGCGGGGGAGGCCGCCTTGGTTGGCTACGGTGCGGCAGTAGTGTGGCGCCTCCATGTCAGGCGCGCAGTCCGCTACCCGCGAGATCCTTTCGGCGAACCGGGCGAGCAGACCGGCGCCGGCGGACACTCCCCAAGGGGGGGAGCGGTCTCTGAGCGGTGTGCGGGTCCCCGGTAGGCCCGCAGGCCTGGGACGCTCCGTGACTCGGCCTTACGTCTGCCCGCCTTCAACGCGGTCCCCAATGACCACGATCTGGATCAGCCGCCAAGGGGCGCTTAAGTATGTGGGAAACGGGGCGCTTGCTGCTGCTCCGTCGAGCTCAGGAGAGACCGCCAGGTCCTCGGCAACCACCTCCACCCACAAACGCAGAGTCTGGA\n",
      "\n",
      "Variant X1:\n",
      "GCGGCGCTGGTTGAGGCCCCGCAGGGCGGGGGAGGCCGCCTTGGTAGGCTACGGTGCGGCAGTCGTGTGGCGCCTCCATGTCAGGCGTCGCAGTCCGCTACCAGCGAGATCCTTTCGGGCGAACCGGGGCGAGAGACCGGCGCCGGCGGACACTCCCAAGGGGGGAGCGGTCTCTGAGCGGTTTGCGTGACCCCGGTTAGGCTCCGCCGGCCTGGGACGCTCCGTGACTCGGCCTTACGTCTGCCCGCCTTCAAAGCGTCCCAATGACCACGATCTGGATCAGACCGCCAAGGGGCGCTTAAGTATGTGGGAAACGGGGCGCTTGCTGCTGCTCCTCGAGCTCAGGAGTGACCCCCAGTCCTCAGGCAACCACCTCCACCGCAGGGCGGGAGAGTCTGGA\n",
      "\n",
      "Variant X2:\n",
      "GCGGCGCTGGTTGAGGCCCCCACTAAACGCGGAGGCCGCCTTGGTAGGCTACGGTGCGGCAGTCGTGTGGCGCCTCCATGTCAGGCGTCGCAGTCCGCTACCAGCGAGATCCTTTCGGGCGAACCGGGGCGAGAGACCGGCGCCGGCGGACACTCCCAAGGGGGGAGCGGTCTCTGAGCGGTTTGCGTGACCCCGGTTAGGCTCCGCCGGCCTGGGACGCTCCGTGACTCGGCCTTACGTCTGCCCGCCTTCAAAGCGTCCCAATGACCACGATCTGGATCAGACCGCCAAGGGGCGCTTAAGTATGTGGGAAACGGGGCGCTTGCTGCTGCTCCTCGAGCTCAGGAGTGACCCCCAGTCCTCAGGCAACCACCTCCACCCACTAAACGCAGAGTCTGGA\n"
     ]
    }
   ],
   "source": [
    "k = 10\n",
    "X1, X2 = introduce_mutations(truncated_sequence, k)\n",
    "\n",
    "print(truncated_sequence)\n",
    "print(\"\\nVariant X1:\")\n",
    "print(X1)\n",
    "print(\"\\nVariant X2:\")\n",
    "print(X2)\n"
   ]
  },
  {
   "cell_type": "code",
   "execution_count": 12,
   "id": "2170bb0a",
   "metadata": {},
   "outputs": [
    {
     "name": "stderr",
     "output_type": "stream",
     "text": [
      "/Users/vidyaanildhulappanavar/miniconda3/lib/python3.10/site-packages/Bio/pairwise2.py:278: BiopythonDeprecationWarning: Bio.pairwise2 has been deprecated, and we intend to remove it in a future release of Biopython. As an alternative, please consider using Bio.Align.PairwiseAligner as a replacement, and contact the Biopython developers if you still need the Bio.pairwise2 module.\n",
      "  warnings.warn(\n"
     ]
    }
   ],
   "source": [
    "from Bio import pairwise2\n",
    "from Bio.Seq import Seq\n",
    "from Bio import SeqIO\n",
    "\n",
    "# Function to perform Needleman-Wunsch alignment\n",
    "def needleman_wunsch_alignment(seq1, seq2):\n",
    "    alignments = pairwise2.align.globalms(seq1, seq2, 1, -1, -1, -1)\n",
    "    best_alignment = alignments[0]\n",
    "    return best_alignment\n",
    "\n",
    "# Function to perform FASTA alignment\n",
    "def fasta_alignment(seq1, seq2):\n",
    "    alignments = pairwise2.align.localms(seq1, seq2, 1, -1, -1, -1)\n",
    "    best_alignment = alignments[0]\n",
    "    return best_alignment\n"
   ]
  },
  {
   "cell_type": "code",
   "execution_count": 13,
   "id": "c0a15673",
   "metadata": {},
   "outputs": [
    {
     "name": "stdout",
     "output_type": "stream",
     "text": [
      "\n",
      "Needleman-Wunsch Alignment:\n",
      "GCGGCGCTGGTTGAGGCCCCGCAGGG--CGGGGGAGGCCGCCTTGGTAGGCTACGGTGCGGCAGTCGTGTGGCGCCTCCATGTCAGGCGTCGCAGTCCGCTACCAGCGAGATCCTTTCGGGCGAACCGGGGCGAGAGACCGGCGCCGGCGGACACTCCCAAGGGGGGAGCGGTCTCTGAGCGGTTTGCGTGACCCCGGTTAGGCTCCGCCGGCCTGGGACGCTCCGTGACTCGGCCTTACGTCTGCCCGCCTTCAAAGCGTCCCAATGACCACGATCTGGATCAGACCGCCAAGGGGCGCTTAAGTATGTGGGAAACGGGGCGCTTGCTGCTGCTCCTCGAGCTCAGGAGTGACCCCCAGTCCTCAGGCAACCACCTCCACCGCAGGG--CGGGAGAGTCTGGA\n",
      "|||||||||||||||||||| ||...  | |.|||||||||||||||||||||||||||||||||||||||||||||||||||||||||||||||||||||||||||||||||||||||||||||||||||||||||||||||||||||||||||||||||||||||||||||||||||||||||||||||||||||||||||||||||||||||||||||||||||||||||||||||||||||||||||||||||||||||||||||||||||||||||||||||||||||||||||||||||||||||||||||||||||||||||||||||||||||||||||||||||||||||||||||||||||||||||||||| ||...  | |.||||||||||\n",
      "GCGGCGCTGGTTGAGGCCCC-CACTAAAC-GCGGAGGCCGCCTTGGTAGGCTACGGTGCGGCAGTCGTGTGGCGCCTCCATGTCAGGCGTCGCAGTCCGCTACCAGCGAGATCCTTTCGGGCGAACCGGGGCGAGAGACCGGCGCCGGCGGACACTCCCAAGGGGGGAGCGGTCTCTGAGCGGTTTGCGTGACCCCGGTTAGGCTCCGCCGGCCTGGGACGCTCCGTGACTCGGCCTTACGTCTGCCCGCCTTCAAAGCGTCCCAATGACCACGATCTGGATCAGACCGCCAAGGGGCGCTTAAGTATGTGGGAAACGGGGCGCTTGCTGCTGCTCCTCGAGCTCAGGAGTGACCCCCAGTCCTCAGGCAACCACCTCCACC-CACTAAAC-GCAGAGTCTGGA\n",
      "  Score=372\n",
      "\n",
      "\n",
      "FASTA Alignment:\n",
      "GCGGCGCTGGTTGAGGCCCCGCAGGG--CGGGGGAGGCCGCCTTGGTAGGCTACGGTGCGGCAGTCGTGTGGCGCCTCCATGTCAGGCGTCGCAGTCCGCTACCAGCGAGATCCTTTCGGGCGAACCGGGGCGAGAGACCGGCGCCGGCGGACACTCCCAAGGGGGGAGCGGTCTCTGAGCGGTTTGCGTGACCCCGGTTAGGCTCCGCCGGCCTGGGACGCTCCGTGACTCGGCCTTACGTCTGCCCGCCTTCAAAGCGTCCCAATGACCACGATCTGGATCAGACCGCCAAGGGGCGCTTAAGTATGTGGGAAACGGGGCGCTTGCTGCTGCTCCTCGAGCTCAGGAGTGACCCCCAGTCCTCAGGCAACCACCTCCACCGCAGGG--CGGGAGAGTCTGGA\n",
      "|||||||||||||||||||| ||...  | |.|||||||||||||||||||||||||||||||||||||||||||||||||||||||||||||||||||||||||||||||||||||||||||||||||||||||||||||||||||||||||||||||||||||||||||||||||||||||||||||||||||||||||||||||||||||||||||||||||||||||||||||||||||||||||||||||||||||||||||||||||||||||||||||||||||||||||||||||||||||||||||||||||||||||||||||||||||||||||||||||||||||||||||||||||||||||||||||| ||...  | |.||||||||||\n",
      "GCGGCGCTGGTTGAGGCCCC-CACTAAAC-GCGGAGGCCGCCTTGGTAGGCTACGGTGCGGCAGTCGTGTGGCGCCTCCATGTCAGGCGTCGCAGTCCGCTACCAGCGAGATCCTTTCGGGCGAACCGGGGCGAGAGACCGGCGCCGGCGGACACTCCCAAGGGGGGAGCGGTCTCTGAGCGGTTTGCGTGACCCCGGTTAGGCTCCGCCGGCCTGGGACGCTCCGTGACTCGGCCTTACGTCTGCCCGCCTTCAAAGCGTCCCAATGACCACGATCTGGATCAGACCGCCAAGGGGCGCTTAAGTATGTGGGAAACGGGGCGCTTGCTGCTGCTCCTCGAGCTCAGGAGTGACCCCCAGTCCTCAGGCAACCACCTCCACC-CACTAAAC-GCAGAGTCTGGA\n",
      "  Score=372\n",
      "\n"
     ]
    }
   ],
   "source": [
    "alignment_nw = needleman_wunsch_alignment(X1, X2)\n",
    "alignment_fasta = fasta_alignment(X1, X2)\n",
    "\n",
    "print(\"\\nNeedleman-Wunsch Alignment:\")\n",
    "print(pairwise2.format_alignment(*alignment_nw))\n",
    "print(\"\\nFASTA Alignment:\")\n",
    "print(pairwise2.format_alignment(*alignment_fasta))\n",
    "\n"
   ]
  },
  {
   "cell_type": "code",
   "execution_count": 20,
   "id": "aab81c9d",
   "metadata": {
    "scrolled": false
   },
   "outputs": [
    {
     "name": "stdout",
     "output_type": "stream",
     "text": [
      "\n",
      "### Running for k = 20 ###\n",
      "\n",
      "Needleman-Wunsch Alignment (time: 0.0546 seconds, score: 356.0, identity: 94.06%):\n",
      "ACCGGCTTGCTTGAAGCCCCGCAGGGCGGGGAAGGCCGCTTGTTTAGGCTACGTGCCGGCA--TTGGTGTCGGCGCCTCTTGTCAGGGCGCGCAGTCCCGCTACCCGCGAGATCCTGTCTGCGAACCGGGCGAGCAATCGCCTACCGCGGACACTCCCCAAGGGGGGGAGCGGTCTCTGAGCGCGTGTGCGGGTCCCCCGAGTAGGCCCGCAGGCCTGGCACGCTCCGTGACTCGCCTACGTCTGCCGCCTTCTACGCGGTCCCCAATGACCACGATCTGGAACAGCCGCCAAGGGCGCTTAACTATGTGGGAAAGCGGGGAGCTGCTGCTGCACTGTCGAGCTCAGAGAGACCGCCAGGTCTGTTTAGGCTACGTGCCGGC-C-AAACGAAACGCAGAGTGGA\n",
      "||||||||||||||||||||||||||||||||||||||| || |..|||.||...||..||  ||||||||||||||||||||||||||||||||||||||||||||||||||||||||||||||||||||||||||||||||||||||||||||||||||||||||||||||||||||||||||||||||||||||||||||||||||||||||||||||||||||||||||||||||||||||||||||||||||||||||||||||||||||||||||||||||||||||||||||||||||||||||||||||||||||||||||||||||||||||||||||||||||||||||||| | |..|||.||...||..| | |||||||||||||||||||\n",
      "ACCGGCTTGCTTGAAGCCCCGCAGGGCGGGGAAGGCCGC-TG-TCGGGCAACCAACCTCCACATTGGTGTCGGCGCCTCTTGTCAGGGCGCGCAGTCCCGCTACCCGCGAGATCCTGTCTGCGAACCGGGCGAGCAATCGCCTACCGCGGACACTCCCCAAGGGGGGGAGCGGTCTCTGAGCGCGTGTGCGGGTCCCCCGAGTAGGCCCGCAGGCCTGGCACGCTCCGTGACTCGCCTACGTCTGCCGCCTTCTACGCGGTCCCCAATGACCACGATCTGGAACAGCCGCCAAGGGCGCTTAACTATGTGGGAAAGCGGGGAGCTGCTGCTGCACTGTCGAGCTCAGAGAGACCGCCAGGTC-G-TCGGGCAACCAACCTCCACCAAACGAAACGCAGAGTGGA\n",
      "  Score=356\n",
      "\n",
      "\n",
      "FASTA Alignment (time: 0.0777 seconds, score: 356.0, identity: 94.06%):\n",
      "ACCGGCTTGCTTGAAGCCCCGCAGGGCGGGGAAGGCCGCTTGTTTAGGCTACGTGCCGGCA--TTGGTGTCGGCGCCTCTTGTCAGGGCGCGCAGTCCCGCTACCCGCGAGATCCTGTCTGCGAACCGGGCGAGCAATCGCCTACCGCGGACACTCCCCAAGGGGGGGAGCGGTCTCTGAGCGCGTGTGCGGGTCCCCCGAGTAGGCCCGCAGGCCTGGCACGCTCCGTGACTCGCCTACGTCTGCCGCCTTCTACGCGGTCCCCAATGACCACGATCTGGAACAGCCGCCAAGGGCGCTTAACTATGTGGGAAAGCGGGGAGCTGCTGCTGCACTGTCGAGCTCAGAGAGACCGCCAGGTCTGTTTAGGCTACGTGCCGGC-C-AAACGAAACGCAGAGTGGA\n",
      "||||||||||||||||||||||||||||||||||||||| || |..|||.||...||..||  ||||||||||||||||||||||||||||||||||||||||||||||||||||||||||||||||||||||||||||||||||||||||||||||||||||||||||||||||||||||||||||||||||||||||||||||||||||||||||||||||||||||||||||||||||||||||||||||||||||||||||||||||||||||||||||||||||||||||||||||||||||||||||||||||||||||||||||||||||||||||||||||||||||||||||| | |..|||.||...||..| | |||||||||||||||||||\n",
      "ACCGGCTTGCTTGAAGCCCCGCAGGGCGGGGAAGGCCGC-TG-TCGGGCAACCAACCTCCACATTGGTGTCGGCGCCTCTTGTCAGGGCGCGCAGTCCCGCTACCCGCGAGATCCTGTCTGCGAACCGGGCGAGCAATCGCCTACCGCGGACACTCCCCAAGGGGGGGAGCGGTCTCTGAGCGCGTGTGCGGGTCCCCCGAGTAGGCCCGCAGGCCTGGCACGCTCCGTGACTCGCCTACGTCTGCCGCCTTCTACGCGGTCCCCAATGACCACGATCTGGAACAGCCGCCAAGGGCGCTTAACTATGTGGGAAAGCGGGGAGCTGCTGCTGCACTGTCGAGCTCAGAGAGACCGCCAGGTC-G-TCGGGCAACCAACCTCCACCAAACGAAACGCAGAGTGGA\n",
      "  Score=356\n",
      "\n",
      "\n",
      "### Running for k = 30 ###\n",
      "\n",
      "Needleman-Wunsch Alignment (time: 0.0988 seconds, score: 354.0, identity: 93.17%):\n",
      "ACGCGCCCTGTTGAGGCCCCGCGGGGCGGGGGGTGGCCGCCTTGGTTGGCTGGGTGCGGTCAGTAGTG-TGGCACCTCCGATG-TCC--GGCG-CGCAGTACGCTCCCGGGCGATCTCTTGCCGGCGAACCGGCGCGATGATGGACGGGCGCCGGCGGACACACCCCAGGGGGAAGCGGGTCTCTGGCGGAGTTCGGTCCCGGTAGGCCCGCAGCGCCTGGGTCGCTCCGTGACTCGGCTTCCTGTAGCTCCCATTTCAACGCGCCCCCAATGACCATATCTTCGATCAGCCGCCAAGGGGCGGCGCTAAGATGCTGGGAAACGGGGGGTGTTGCTGTCCTCGAGCAGTAGTG-TGGCACCTCCGATG-TCC--GGCG-CCACCTCCACCACAAACGCAGAGTCTGGAAA\n",
      "|||||||||||||||||||||||||||||||||||||||||||||||||||||||||||||  ||| | | |.|||.|| |.| |||  |||. ||||||||||||||||||||||||||||||||||||||||||||||||||||||||||||||||||||||||||||||||||||||||||||||||||||||||||||||||||||||||||||||||||||||||||||||||||||||||||||||||||||||||||||||||||||||||||||||||||||||||||||||||||||||||||||||||||||||||||||||||||||||||||||  ||| | | |.|||.|| |.| |||  |||. |||||||||||||||||||||||||||||||\n",
      "ACGCGCCCTGTTGAGGCCCCGCGGGGCGGGGGGTGGCCGCCTTGGTTGGCTGGGTGCGGTC--TAG-GAT-GAACCGCC-AGGGTCCTCGGCAACGCAGTACGCTCCCGGGCGATCTCTTGCCGGCGAACCGGCGCGATGATGGACGGGCGCCGGCGGACACACCCCAGGGGGAAGCGGGTCTCTGGCGGAGTTCGGTCCCGGTAGGCCCGCAGCGCCTGGGTCGCTCCGTGACTCGGCTTCCTGTAGCTCCCATTTCAACGCGCCCCCAATGACCATATCTTCGATCAGCCGCCAAGGGGCGGCGCTAAGATGCTGGGAAACGGGGGGTGTTGCTGTCCTCGAGC--TAG-GAT-GAACCGCC-AGGGTCCTCGGCAACCACCTCCACCACAAACGCAGAGTCTGGAAA\n",
      "  Score=354\n",
      "\n",
      "\n",
      "FASTA Alignment (time: 0.1091 seconds, score: 354.0, identity: 93.17%):\n",
      "ACGCGCCCTGTTGAGGCCCCGCGGGGCGGGGGGTGGCCGCCTTGGTTGGCTGGGTGCGGTCAGTAGTG-TGGCACCTCCGATG-TCC--GGCG-CGCAGTACGCTCCCGGGCGATCTCTTGCCGGCGAACCGGCGCGATGATGGACGGGCGCCGGCGGACACACCCCAGGGGGAAGCGGGTCTCTGGCGGAGTTCGGTCCCGGTAGGCCCGCAGCGCCTGGGTCGCTCCGTGACTCGGCTTCCTGTAGCTCCCATTTCAACGCGCCCCCAATGACCATATCTTCGATCAGCCGCCAAGGGGCGGCGCTAAGATGCTGGGAAACGGGGGGTGTTGCTGTCCTCGAGCAGTAGTG-TGGCACCTCCGATG-TCC--GGCG-CCACCTCCACCACAAACGCAGAGTCTGGAAA\n",
      "|||||||||||||||||||||||||||||||||||||||||||||||||||||||||||||  ||| | | |.|||.|| |.| |||  |||. ||||||||||||||||||||||||||||||||||||||||||||||||||||||||||||||||||||||||||||||||||||||||||||||||||||||||||||||||||||||||||||||||||||||||||||||||||||||||||||||||||||||||||||||||||||||||||||||||||||||||||||||||||||||||||||||||||||||||||||||||||||||||||||  ||| | | |.|||.|| |.| |||  |||. |||||||||||||||||||||||||||||||\n",
      "ACGCGCCCTGTTGAGGCCCCGCGGGGCGGGGGGTGGCCGCCTTGGTTGGCTGGGTGCGGTC--TAG-GAT-GAACCGCC-AGGGTCCTCGGCAACGCAGTACGCTCCCGGGCGATCTCTTGCCGGCGAACCGGCGCGATGATGGACGGGCGCCGGCGGACACACCCCAGGGGGAAGCGGGTCTCTGGCGGAGTTCGGTCCCGGTAGGCCCGCAGCGCCTGGGTCGCTCCGTGACTCGGCTTCCTGTAGCTCCCATTTCAACGCGCCCCCAATGACCATATCTTCGATCAGCCGCCAAGGGGCGGCGCTAAGATGCTGGGAAACGGGGGGTGTTGCTGTCCTCGAGC--TAG-GAT-GAACCGCC-AGGGTCCTCGGCAACCACCTCCACCACAAACGCAGAGTCTGGAAA\n",
      "  Score=354\n",
      "\n",
      "\n",
      "### Running for k = 40 ###\n",
      "\n",
      "Needleman-Wunsch Alignment (time: 0.1022 seconds, score: 320.0, identity: 88.83%):\n",
      "AGCCCGGCCTGGCGAGGCTCCCGCGGCAGAGTCCGCCTTTGGGTTCTTACGGTCAGGACAGTAGTGGTCGCTCCATGTGTCAAAGGGTGCCGTCCGCT--ACC-CGCGCAGAT-CCTTATC-GGC-GAACCGGGCGACCCAGACGCCGAGGACACTTCCCAGAAGGAGGGAGCGGTCTGCTGAGCGGTGCTGCGGGGTCCCCGAGCAGGCCTGCAGGGCCTGGTCGCTCCGTGACTCGGACTTATGTCTGCCGCTTCATACGGGGTCCCCAATGACTAGATCGGGATCACACGCCAAGTGCCTCAGCATCTGGGAAATGCGGGTCGCAAAGGGTGCCGTCCGCT--ACC-CGCGCAGAT-CCTTATC-GGC-CTCGGCAACACCTCCACCACAGACACGCAGGAGTTCTGGA\n",
      "||||||||||||||||||||||||||||||||||||||||||||||||||||||||||||||||||||||||||||||||   |.|.|||.||||| |  |.| |..|.|||. ||  ..| ||. ||||||||||||||||||||||||||||||||||||||||||||||||||||||||||||||||||||||||||||||||||||||||||||||||||||||||||||||||||||||||||||||||||||||||||||||||||||||||||||||||||||||||||||||||||||||||||||||||||||||||   |.|.|||.||||| |  |.| |..|.|||. ||  ..| ||. ||||||||||||||||||||||||||||||||||||||||\n",
      "AGCCCGGCCTGGCGAGGCTCCCGCGGCAGAGTCCGCCTTTGGGTTCTTACGGTCAGGACAGTAGTGGTCGCTCCATGTGT---ATGCTGCTGTCCG-TGGAGCTCTAGGAGAGGCC--GCCAGGTAGAACCGGGCGACCCAGACGCCGAGGACACTTCCCAGAAGGAGGGAGCGGTCTGCTGAGCGGTGCTGCGGGGTCCCCGAGCAGGCCTGCAGGGCCTGGTCGCTCCGTGACTCGGACTTATGTCTGCCGCTTCATACGGGGTCCCCAATGACTAGATCGGGATCACACGCCAAGTGCCTCAGCATCTGGGAAATGCGGGTCG---ATGCTGCTGTCCG-TGGAGCTCTAGGAGAGGCC--GCCAGGTACTCGGCAACACCTCCACCACAGACACGCAGGAGTTCTGGA\n",
      "  Score=320\n",
      "\n",
      "\n",
      "FASTA Alignment (time: 0.1183 seconds, score: 320.0, identity: 88.83%):\n",
      "AGCCCGGCCTGGCGAGGCTCCCGCGGCAGAGTCCGCCTTTGGGTTCTTACGGTCAGGACAGTAGTGGTCGCTCCATGTGTCAAAGGGTGCCGTCCGCT--ACC-CGCGCAGAT-CCTTATC-GGC-GAACCGGGCGACCCAGACGCCGAGGACACTTCCCAGAAGGAGGGAGCGGTCTGCTGAGCGGTGCTGCGGGGTCCCCGAGCAGGCCTGCAGGGCCTGGTCGCTCCGTGACTCGGACTTATGTCTGCCGCTTCATACGGGGTCCCCAATGACTAGATCGGGATCACACGCCAAGTGCCTCAGCATCTGGGAAATGCGGGTCGCAAAGGGTGCCGTCCGCT--ACC-CGCGCAGAT-CCTTATC-GGC-CTCGGCAACACCTCCACCACAGACACGCAGGAGTTCTGGA\n",
      "||||||||||||||||||||||||||||||||||||||||||||||||||||||||||||||||||||||||||||||||   |.|.|||.||||| |  |.| |..|.|||. ||  ..| ||. ||||||||||||||||||||||||||||||||||||||||||||||||||||||||||||||||||||||||||||||||||||||||||||||||||||||||||||||||||||||||||||||||||||||||||||||||||||||||||||||||||||||||||||||||||||||||||||||||||||||||   |.|.|||.||||| |  |.| |..|.|||. ||  ..| ||. ||||||||||||||||||||||||||||||||||||||||\n",
      "AGCCCGGCCTGGCGAGGCTCCCGCGGCAGAGTCCGCCTTTGGGTTCTTACGGTCAGGACAGTAGTGGTCGCTCCATGTGT---ATGCTGCTGTCCG-TGGAGCTCTAGGAGAGGCC--GCCAGGTAGAACCGGGCGACCCAGACGCCGAGGACACTTCCCAGAAGGAGGGAGCGGTCTGCTGAGCGGTGCTGCGGGGTCCCCGAGCAGGCCTGCAGGGCCTGGTCGCTCCGTGACTCGGACTTATGTCTGCCGCTTCATACGGGGTCCCCAATGACTAGATCGGGATCACACGCCAAGTGCCTCAGCATCTGGGAAATGCGGGTCG---ATGCTGCTGTCCG-TGGAGCTCTAGGAGAGGCC--GCCAGGTACTCGGCAACACCTCCACCACAGACACGCAGGAGTTCTGGA\n",
      "  Score=320\n",
      "\n",
      "\n",
      "### Running for k = 50 ###\n",
      "\n",
      "Needleman-Wunsch Alignment (time: 0.1213 seconds, score: 308.0, identity: 87.38%):\n",
      "ATGCGGCGCGGGTTGAGCCCTCCGCAGGGCGGGGAGGCGCACACTTGGCTGAGCTACGCTCGGCAGTTGGTGCGGGTCGTTCATTCGGCGCATCCCCTCGCCGCGAGTCCTTTCACGAACAGATTGAG-GCAGAACCGTC---CTCGC-GCAGAC-ACTGGCCGAGGGGGGGACACGAGTCTTCAGCGTTTGTGCGGTCCCGGTAGGCATCCCATGCCTGGGACGCACCGTGATTCGGGCCTTACTCTCCGGTTCAACCGCAGTCCCCATAACCACGCTATGGATCAGCCGCATCGGCGATGCCGACCGCGAGTCCTTTCACGAACAGATTGAG-GCAGAACCGTC---CTCGC-GCAGAC-GCCAGTCCCTAGAATCTACGTTCCACAGCCACAAAAGCCCGATGTATTGA\n",
      "||||||||||||||||||||||||||||||||||||||||||||||||||||||||||||||||||||||||||||||||||||||||||||||||||||..|.| |   |...||| .|.|.|||.| ||.|..|||||   ||| | |.|||| ||||||||||||||||||||||||||||||||||||||||||||||||||||||||||||||||||||||||||||||||||||||||||||||||||||||||||||||||||||||||||||||||||||||||||||||||||||||..|.| |   |...||| .|.|.|||.| ||.|..|||||   ||| | |.|||| ||||||||||||||||||||||||||||||||||||||||||||||||||\n",
      "ATGCGGCGCGGGTTGAGCCCTCCGCAGGGCGGGGAGGCGCACACTTGGCTGAGCTACGCTCGGCAGTTGGTGCGGGTCGTTCATTCGGCGCATCCCCTCGATGTG-G---TGAAACG-GCCGCTTGCGTGCTGCTCCGTCGATCTC-CAGAAGACCACTGGCCGAGGGGGGGACACGAGTCTTCAGCGTTTGTGCGGTCCCGGTAGGCATCCCATGCCTGGGACGCACCGTGATTCGGGCCTTACTCTCCGGTTCAACCGCAGTCCCCATAACCACGCTATGGATCAGCCGCATCGGCGATGCCGAATGTG-G---TGAAACG-GCCGCTTGCGTGCTGCTCCGTCGATCTC-CAGAAGACCGCCAGTCCCTAGAATCTACGTTCCACAGCCACAAAAGCCCGATGTATTGA\n",
      "  Score=308\n",
      "\n",
      "\n",
      "FASTA Alignment (time: 0.1335 seconds, score: 308.0, identity: 87.38%):\n",
      "ATGCGGCGCGGGTTGAGCCCTCCGCAGGGCGGGGAGGCGCACACTTGGCTGAGCTACGCTCGGCAGTTGGTGCGGGTCGTTCATTCGGCGCATCCCCTCGCCGCGAGTCCTTTCACGAACAGATTGAG-GCAGAACCGTC---CTCGC-GCAGAC-ACTGGCCGAGGGGGGGACACGAGTCTTCAGCGTTTGTGCGGTCCCGGTAGGCATCCCATGCCTGGGACGCACCGTGATTCGGGCCTTACTCTCCGGTTCAACCGCAGTCCCCATAACCACGCTATGGATCAGCCGCATCGGCGATGCCGACCGCGAGTCCTTTCACGAACAGATTGAG-GCAGAACCGTC---CTCGC-GCAGAC-GCCAGTCCCTAGAATCTACGTTCCACAGCCACAAAAGCCCGATGTATTGA\n",
      "||||||||||||||||||||||||||||||||||||||||||||||||||||||||||||||||||||||||||||||||||||||||||||||||||||..|.| |   |...||| .|.|.|||.| ||.|..|||||   ||| | |.|||| ||||||||||||||||||||||||||||||||||||||||||||||||||||||||||||||||||||||||||||||||||||||||||||||||||||||||||||||||||||||||||||||||||||||||||||||||||||||..|.| |   |...||| .|.|.|||.| ||.|..|||||   ||| | |.|||| ||||||||||||||||||||||||||||||||||||||||||||||||||\n",
      "ATGCGGCGCGGGTTGAGCCCTCCGCAGGGCGGGGAGGCGCACACTTGGCTGAGCTACGCTCGGCAGTTGGTGCGGGTCGTTCATTCGGCGCATCCCCTCGATGTG-G---TGAAACG-GCCGCTTGCGTGCTGCTCCGTCGATCTC-CAGAAGACCACTGGCCGAGGGGGGGACACGAGTCTTCAGCGTTTGTGCGGTCCCGGTAGGCATCCCATGCCTGGGACGCACCGTGATTCGGGCCTTACTCTCCGGTTCAACCGCAGTCCCCATAACCACGCTATGGATCAGCCGCATCGGCGATGCCGAATGTG-G---TGAAACG-GCCGCTTGCGTGCTGCTCCGTCGATCTC-CAGAAGACCGCCAGTCCCTAGAATCTACGTTCCACAGCCACAAAAGCCCGATGTATTGA\n",
      "  Score=308\n",
      "\n",
      "\n",
      "### Summary of Results ###\n",
      "k   | NW Time  | NW Score | NW Identity  || FASTA Time | FASTA Score | FASTA Identity\n",
      "------------------------------------------------------------------------------------------\n",
      "20  | 0.0546   | 356.0    | 94.06        || 0.0777     | 356.0       | 94.06         \n",
      "30  | 0.0988   | 354.0    | 93.17        || 0.1091     | 354.0       | 93.17         \n",
      "40  | 0.1022   | 320.0    | 88.83        || 0.1183     | 320.0       | 88.83         \n",
      "50  | 0.1213   | 308.0    | 87.38        || 0.1335     | 308.0       | 87.38         \n"
     ]
    }
   ],
   "source": [
    "import time\n",
    "from Bio import pairwise2\n",
    "from Bio.Blast import NCBIWWW, NCBIXML\n",
    "\n",
    "\n",
    "# Function to calculate identity\n",
    "def calculate_identity_similarity(alignment):\n",
    "    aligned_seq1, aligned_seq2, score, begin, end = alignment\n",
    "    alignment_length = len(aligned_seq1)\n",
    "    num_identical = sum(1 for i in range(alignment_length) if aligned_seq1[i] == aligned_seq2[i] and aligned_seq1[i] != '-')\n",
    "    identity = num_identical / alignment_length * 100\n",
    "    return identity\n",
    "\n",
    "# List of k values to iterate over\n",
    "k_values = [20, 30, 40, 50]\n",
    "\n",
    "# Storage for results\n",
    "results = []\n",
    "\n",
    "# Iterate over each k value\n",
    "for k in k_values:\n",
    "    print(f\"\\n### Running for k = {k} ###\")\n",
    "    X1, X2 = introduce_mutations(truncated_sequence, k)\n",
    "\n",
    "\n",
    "    # Measure time and quality for Needleman-Wunsch alignment\n",
    "    start_time = time.time()\n",
    "    alignment_nw = needleman_wunsch_alignment(X1, X2)\n",
    "    nw_time = time.time() - start_time\n",
    "    nw_score = alignment_nw[2]\n",
    "    nw_identity = calculate_identity_similarity(alignment_nw)\n",
    "\n",
    "    # Measure time and quality for FASTA alignment\n",
    "    start_time = time.time()\n",
    "    alignment_fasta = fasta_alignment(X1, X2)\n",
    "    fasta_time = time.time() - start_time\n",
    "    fasta_score = alignment_fasta[2]\n",
    "    fasta_identity = calculate_identity_similarity(alignment_fasta)\n",
    "    \n",
    "    start_time_blast = time.time()\n",
    "    result_handle = NCBIWWW.qblast(\"blastn\", \"nt\", X1)\n",
    "    blast_record = NCBIXML.read(result_handle)\n",
    "    blast_score = max(hsp.score for alignment in blast_record.alignments for hsp in alignment.hsps)\n",
    "    duration_blast = time.time() - start_time_blast\n",
    "\n",
    "    # Store results for current k value\n",
    "    results.append({\n",
    "        'k': k,\n",
    "        'NW_time': nw_time,\n",
    "        'NW_score': nw_score,\n",
    "        'NW_identity': nw_identity,\n",
    "        'FASTA_time': fasta_time,\n",
    "        'FASTA_score': fasta_score,\n",
    "        'FASTA_identity': fasta_identity,\n",
    "        'Blast_time': duration_blast,\n",
    "        'BLAST score': blast_score\n",
    "    })\n",
    "\n",
    "    # Print results for current k value\n",
    "    print(f\"\\nNeedleman-Wunsch Alignment (time: {nw_time:.4f} seconds, score: {nw_score}, identity: {nw_identity:.2f}%):\")\n",
    "    print(pairwise2.format_alignment(*alignment_nw))\n",
    "    print(f\"\\nFASTA Alignment (time: {fasta_time:.4f} seconds, score: {fasta_score}, identity: {fasta_identity:.2f}%):\")\n",
    "    print(pairwise2.format_alignment(*alignment_fasta))\n",
    "\n",
    "# Print summary of results side by side\n",
    "print(\"\\n### Summary of Results ###\")\n",
    "print(f\"{'k':<3} | {'NW Time':<8} | {'NW Score':<8} | {'NW Identity':<12} || {'FASTA Time':<10} | {'FASTA Score':<11} | {'FASTA Identity':<14}\")\n",
    "print(\"-\" * 90)\n",
    "for result in results:\n",
    "    print(f\"{result['k']:<3} | {result['NW_time']:<8.4f} | {result['NW_score']:<8} | {result['NW_identity']:<12.2f} || {result['FASTA_time']:<10.4f} | {result['FASTA_score']:<11} | {result['FASTA_identity']:<14.2f}\")\n"
   ]
  },
  {
   "cell_type": "code",
   "execution_count": 21,
   "id": "398e3c5f",
   "metadata": {},
   "outputs": [
    {
     "name": "stdout",
     "output_type": "stream",
     "text": [
      "\n",
      "### Summary of Results ###\n",
      "k   | NW Time  | NW Score | NW Identity  || Blast_time  | BLAST score   \n",
      "------------------------------------------------------------------------------------------\n",
      "20  | 0.0546   | 356.0    | 94.06        | 61.648799896240234 | 56.00         \n",
      "30  | 0.0988   | 354.0    | 93.17        | 139.4913191795349 | 53.00         \n",
      "40  | 0.1022   | 320.0    | 88.83        | 79.84892511367798 | 55.00         \n",
      "50  | 0.1213   | 308.0    | 87.38        | 139.5076401233673 | 51.00         \n"
     ]
    }
   ],
   "source": [
    "print(\"\\n### Summary of Results ###\")\n",
    "print(f\"{'k':<3} | {'NW Time':<8} | {'NW Score':<8} | {'NW Identity':<12} || {'Blast_time':<11} | {'BLAST score':<14}\")\n",
    "print(\"-\" * 90)\n",
    "\n",
    "for result in results:\n",
    "    print(f\"{result['k']:<3} | {result['NW_time']:<8.4f} | {result['NW_score']:<8} | {result['NW_identity']:<12.2f} | {result['Blast_time']:<11} | {result['BLAST score']:<14.2f}\")\n"
   ]
  },
  {
   "cell_type": "code",
   "execution_count": null,
   "id": "675b03c0",
   "metadata": {},
   "outputs": [],
   "source": []
  },
  {
   "cell_type": "code",
   "execution_count": null,
   "id": "037d6694",
   "metadata": {},
   "outputs": [],
   "source": []
  }
 ],
 "metadata": {
  "kernelspec": {
   "display_name": "Python 3 (ipykernel)",
   "language": "python",
   "name": "python3"
  },
  "language_info": {
   "codemirror_mode": {
    "name": "ipython",
    "version": 3
   },
   "file_extension": ".py",
   "mimetype": "text/x-python",
   "name": "python",
   "nbconvert_exporter": "python",
   "pygments_lexer": "ipython3",
   "version": "3.10.10"
  }
 },
 "nbformat": 4,
 "nbformat_minor": 5
}
