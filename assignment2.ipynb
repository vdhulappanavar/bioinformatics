{
 "cells": [
  {
   "cell_type": "code",
   "execution_count": 4,
   "id": "d9b516b7",
   "metadata": {},
   "outputs": [
    {
     "name": "stdout",
     "output_type": "stream",
     "text": [
      "Collecting clustalo\n",
      "  Using cached clustalo-0.1.2.tar.gz (3.6 kB)\n",
      "  Preparing metadata (setup.py) ... \u001b[?25ldone\n",
      "\u001b[?25hBuilding wheels for collected packages: clustalo\n",
      "  Building wheel for clustalo (setup.py) ... \u001b[?25lerror\n",
      "  \u001b[1;31merror\u001b[0m: \u001b[1msubprocess-exited-with-error\u001b[0m\n",
      "  \n",
      "  \u001b[31m×\u001b[0m \u001b[32mpython setup.py bdist_wheel\u001b[0m did not run successfully.\n",
      "  \u001b[31m│\u001b[0m exit code: \u001b[1;36m1\u001b[0m\n",
      "  \u001b[31m╰─>\u001b[0m \u001b[31m[9 lines of output]\u001b[0m\n",
      "  \u001b[31m   \u001b[0m running bdist_wheel\n",
      "  \u001b[31m   \u001b[0m running build\n",
      "  \u001b[31m   \u001b[0m running build_ext\n",
      "  \u001b[31m   \u001b[0m building 'clustalo' extension\n",
      "  \u001b[31m   \u001b[0m creating build\n",
      "  \u001b[31m   \u001b[0m creating build/temp.macosx-10.9-x86_64-cpython-310\n",
      "  \u001b[31m   \u001b[0m clang -Wno-unused-result -Wsign-compare -Wunreachable-code -DNDEBUG -fwrapv -O2 -Wall -fPIC -O2 -isystem /Users/vidyaanildhulappanavar/miniconda3/include -fPIC -O2 -isystem /Users/vidyaanildhulappanavar/miniconda3/include -I/usr/include/clustalo -I/usr/local/include/clustalo -I/Users/vidyaanildhulappanavar/miniconda3/include/python3.10 -c clustalo.c -o build/temp.macosx-10.9-x86_64-cpython-310/clustalo.o -fopenmp\n",
      "  \u001b[31m   \u001b[0m clang: error: unsupported option '-fopenmp'\n",
      "  \u001b[31m   \u001b[0m error: command '/usr/bin/clang' failed with exit code 1\n",
      "  \u001b[31m   \u001b[0m \u001b[31m[end of output]\u001b[0m\n",
      "  \n",
      "  \u001b[1;35mnote\u001b[0m: This error originates from a subprocess, and is likely not a problem with pip.\n",
      "\u001b[31m  ERROR: Failed building wheel for clustalo\u001b[0m\u001b[31m\n",
      "\u001b[0m\u001b[?25h  Running setup.py clean for clustalo\n",
      "Failed to build clustalo\n",
      "\u001b[31mERROR: Could not build wheels for clustalo, which is required to install pyproject.toml-based projects\u001b[0m\u001b[31m\n",
      "\u001b[0m\n",
      "\u001b[1m[\u001b[0m\u001b[34;49mnotice\u001b[0m\u001b[1;39;49m]\u001b[0m\u001b[39;49m A new release of pip is available: \u001b[0m\u001b[31;49m24.0\u001b[0m\u001b[39;49m -> \u001b[0m\u001b[32;49m24.1.2\u001b[0m\n",
      "\u001b[1m[\u001b[0m\u001b[34;49mnotice\u001b[0m\u001b[1;39;49m]\u001b[0m\u001b[39;49m To update, run: \u001b[0m\u001b[32;49mpip install --upgrade pip\u001b[0m\n",
      "Note: you may need to restart the kernel to use updated packages.\n"
     ]
    }
   ],
   "source": [
    "%pip install  clustalo\n"
   ]
  },
  {
   "cell_type": "code",
   "execution_count": 3,
   "id": "f7327de9",
   "metadata": {},
   "outputs": [
    {
     "name": "stdout",
     "output_type": "stream",
     "text": [
      "Collecting muscle\n",
      "  Downloading muscle-0.0.4-py3-none-any.whl.metadata (525 bytes)\n",
      "Downloading muscle-0.0.4-py3-none-any.whl (3.8 kB)\n",
      "Installing collected packages: muscle\n",
      "Successfully installed muscle-0.0.4\n",
      "\n",
      "\u001b[1m[\u001b[0m\u001b[34;49mnotice\u001b[0m\u001b[1;39;49m]\u001b[0m\u001b[39;49m A new release of pip is available: \u001b[0m\u001b[31;49m24.0\u001b[0m\u001b[39;49m -> \u001b[0m\u001b[32;49m24.1.2\u001b[0m\n",
      "\u001b[1m[\u001b[0m\u001b[34;49mnotice\u001b[0m\u001b[1;39;49m]\u001b[0m\u001b[39;49m To update, run: \u001b[0m\u001b[32;49mpip install --upgrade pip\u001b[0m\n",
      "Note: you may need to restart the kernel to use updated packages.\n"
     ]
    }
   ],
   "source": [
    "%pip install muscle"
   ]
  },
  {
   "cell_type": "code",
   "execution_count": 6,
   "id": "d293277e",
   "metadata": {},
   "outputs": [
    {
     "name": "stdout",
     "output_type": "stream",
     "text": [
      "\u001b[31mERROR: Could not find a version that satisfies the requirement clustal-omega (from versions: none)\u001b[0m\u001b[31m\n",
      "\u001b[0m\u001b[31mERROR: No matching distribution found for clustal-omega\u001b[0m\u001b[31m\n",
      "\u001b[0m\n",
      "\u001b[1m[\u001b[0m\u001b[34;49mnotice\u001b[0m\u001b[1;39;49m]\u001b[0m\u001b[39;49m A new release of pip is available: \u001b[0m\u001b[31;49m24.0\u001b[0m\u001b[39;49m -> \u001b[0m\u001b[32;49m24.1.2\u001b[0m\n",
      "\u001b[1m[\u001b[0m\u001b[34;49mnotice\u001b[0m\u001b[1;39;49m]\u001b[0m\u001b[39;49m To update, run: \u001b[0m\u001b[32;49mpip install --upgrade pip\u001b[0m\n",
      "Note: you may need to restart the kernel to use updated packages.\n"
     ]
    }
   ],
   "source": [
    "%pip install clustal-omega\n"
   ]
  },
  {
   "cell_type": "code",
   "execution_count": 9,
   "id": "dd14a40e",
   "metadata": {},
   "outputs": [
    {
     "name": "stdout",
     "output_type": "stream",
     "text": [
      "Collecting clustalo\n",
      "  Using cached clustalo-0.1.2.tar.gz (3.6 kB)\n",
      "  Preparing metadata (setup.py) ... \u001b[?25ldone\n",
      "\u001b[?25hBuilding wheels for collected packages: clustalo\n",
      "  Building wheel for clustalo (setup.py) ... \u001b[?25lerror\n",
      "  \u001b[1;31merror\u001b[0m: \u001b[1msubprocess-exited-with-error\u001b[0m\n",
      "  \n",
      "  \u001b[31m×\u001b[0m \u001b[32mpython setup.py bdist_wheel\u001b[0m did not run successfully.\n",
      "  \u001b[31m│\u001b[0m exit code: \u001b[1;36m1\u001b[0m\n",
      "  \u001b[31m╰─>\u001b[0m \u001b[31m[9 lines of output]\u001b[0m\n",
      "  \u001b[31m   \u001b[0m running bdist_wheel\n",
      "  \u001b[31m   \u001b[0m running build\n",
      "  \u001b[31m   \u001b[0m running build_ext\n",
      "  \u001b[31m   \u001b[0m building 'clustalo' extension\n",
      "  \u001b[31m   \u001b[0m creating build\n",
      "  \u001b[31m   \u001b[0m creating build/temp.macosx-10.9-x86_64-cpython-310\n",
      "  \u001b[31m   \u001b[0m clang -Wno-unused-result -Wsign-compare -Wunreachable-code -DNDEBUG -fwrapv -O2 -Wall -fPIC -O2 -isystem /Users/vidyaanildhulappanavar/miniconda3/include -fPIC -O2 -isystem /Users/vidyaanildhulappanavar/miniconda3/include -I/usr/include/clustalo -I/usr/local/include/clustalo -I/Users/vidyaanildhulappanavar/miniconda3/include/python3.10 -c clustalo.c -o build/temp.macosx-10.9-x86_64-cpython-310/clustalo.o -fopenmp\n",
      "  \u001b[31m   \u001b[0m clang: error: unsupported option '-fopenmp'\n",
      "  \u001b[31m   \u001b[0m error: command '/usr/bin/clang' failed with exit code 1\n",
      "  \u001b[31m   \u001b[0m \u001b[31m[end of output]\u001b[0m\n",
      "  \n",
      "  \u001b[1;35mnote\u001b[0m: This error originates from a subprocess, and is likely not a problem with pip.\n",
      "\u001b[31m  ERROR: Failed building wheel for clustalo\u001b[0m\u001b[31m\n",
      "\u001b[0m\u001b[?25h  Running setup.py clean for clustalo\n",
      "Failed to build clustalo\n",
      "\u001b[31mERROR: Could not build wheels for clustalo, which is required to install pyproject.toml-based projects\u001b[0m\u001b[31m\n",
      "\u001b[0m\n",
      "\u001b[1m[\u001b[0m\u001b[34;49mnotice\u001b[0m\u001b[1;39;49m]\u001b[0m\u001b[39;49m A new release of pip is available: \u001b[0m\u001b[31;49m24.0\u001b[0m\u001b[39;49m -> \u001b[0m\u001b[32;49m24.1.2\u001b[0m\n",
      "\u001b[1m[\u001b[0m\u001b[34;49mnotice\u001b[0m\u001b[1;39;49m]\u001b[0m\u001b[39;49m To update, run: \u001b[0m\u001b[32;49mpip install --upgrade pip\u001b[0m\n"
     ]
    }
   ],
   "source": [
    "!pip install clustalo\n"
   ]
  },
  {
   "cell_type": "code",
   "execution_count": 1,
   "id": "ddea45b6",
   "metadata": {},
   "outputs": [
    {
     "name": "stderr",
     "output_type": "stream",
     "text": [
      "/Users/vidyaanildhulappanavar/miniconda3/lib/python3.10/site-packages/Bio/Application/__init__.py:39: BiopythonDeprecationWarning: The Bio.Application modules and modules relying on it have been deprecated.\n",
      "\n",
      "Due to the on going maintenance burden of keeping command line application\n",
      "wrappers up to date, we have decided to deprecate and eventually remove these\n",
      "modules.\n",
      "\n",
      "We instead now recommend building your command line and invoking it directly\n",
      "with the subprocess module.\n",
      "  warnings.warn(\n"
     ]
    },
    {
     "ename": "ApplicationError",
     "evalue": "Non-zero return code 127 from 'clustalo -i sequences.fasta -o clustal_output.aln --auto -v', message '/bin/sh: clustalo: command not found'",
     "output_type": "error",
     "traceback": [
      "\u001b[0;31m---------------------------------------------------------------------------\u001b[0m",
      "\u001b[0;31mApplicationError\u001b[0m                          Traceback (most recent call last)",
      "Cell \u001b[0;32mIn[1], line 24\u001b[0m\n\u001b[1;32m     21\u001b[0m         output_handle\u001b[38;5;241m.\u001b[39mwrite(\u001b[38;5;124mf\u001b[39m\u001b[38;5;124m\"\u001b[39m\u001b[38;5;124m>X\u001b[39m\u001b[38;5;132;01m{\u001b[39;00mi\u001b[38;5;241m+\u001b[39m\u001b[38;5;241m1\u001b[39m\u001b[38;5;132;01m}\u001b[39;00m\u001b[38;5;130;01m\\n\u001b[39;00m\u001b[38;5;132;01m{\u001b[39;00mseq\u001b[38;5;132;01m}\u001b[39;00m\u001b[38;5;130;01m\\n\u001b[39;00m\u001b[38;5;124m\"\u001b[39m)\n\u001b[1;32m     23\u001b[0m clustalomega_cline \u001b[38;5;241m=\u001b[39m ClustalOmegaCommandline(infile\u001b[38;5;241m=\u001b[39m\u001b[38;5;124m\"\u001b[39m\u001b[38;5;124msequences.fasta\u001b[39m\u001b[38;5;124m\"\u001b[39m, outfile\u001b[38;5;241m=\u001b[39m\u001b[38;5;124m\"\u001b[39m\u001b[38;5;124mclustal_output.aln\u001b[39m\u001b[38;5;124m\"\u001b[39m, verbose\u001b[38;5;241m=\u001b[39m\u001b[38;5;28;01mTrue\u001b[39;00m, auto\u001b[38;5;241m=\u001b[39m\u001b[38;5;28;01mTrue\u001b[39;00m)\n\u001b[0;32m---> 24\u001b[0m stdout, stderr \u001b[38;5;241m=\u001b[39m \u001b[43mclustalomega_cline\u001b[49m\u001b[43m(\u001b[49m\u001b[43m)\u001b[49m\n\u001b[1;32m     26\u001b[0m \u001b[38;5;28;01mfrom\u001b[39;00m \u001b[38;5;21;01mBio\u001b[39;00m\u001b[38;5;21;01m.\u001b[39;00m\u001b[38;5;21;01mAlign\u001b[39;00m\u001b[38;5;21;01m.\u001b[39;00m\u001b[38;5;21;01mApplications\u001b[39;00m \u001b[38;5;28;01mimport\u001b[39;00m MuscleCommandline\n\u001b[1;32m     28\u001b[0m muscle_cline \u001b[38;5;241m=\u001b[39m MuscleCommandline(\u001b[38;5;28minput\u001b[39m\u001b[38;5;241m=\u001b[39m\u001b[38;5;124m\"\u001b[39m\u001b[38;5;124msequences.fasta\u001b[39m\u001b[38;5;124m\"\u001b[39m, out\u001b[38;5;241m=\u001b[39m\u001b[38;5;124m\"\u001b[39m\u001b[38;5;124mmuscle_output.aln\u001b[39m\u001b[38;5;124m\"\u001b[39m)\n",
      "File \u001b[0;32m~/miniconda3/lib/python3.10/site-packages/Bio/Application/__init__.py:591\u001b[0m, in \u001b[0;36mAbstractCommandline.__call__\u001b[0;34m(self, stdin, stdout, stderr, cwd, env)\u001b[0m\n\u001b[1;32m    588\u001b[0m     stderr_arg\u001b[38;5;241m.\u001b[39mclose()\n\u001b[1;32m    590\u001b[0m \u001b[38;5;28;01mif\u001b[39;00m return_code:\n\u001b[0;32m--> 591\u001b[0m     \u001b[38;5;28;01mraise\u001b[39;00m ApplicationError(return_code, \u001b[38;5;28mstr\u001b[39m(\u001b[38;5;28mself\u001b[39m), stdout_str, stderr_str)\n\u001b[1;32m    592\u001b[0m \u001b[38;5;28;01mreturn\u001b[39;00m stdout_str, stderr_str\n",
      "\u001b[0;31mApplicationError\u001b[0m: Non-zero return code 127 from 'clustalo -i sequences.fasta -o clustal_output.aln --auto -v', message '/bin/sh: clustalo: command not found'"
     ]
    }
   ],
   "source": [
    "import random\n",
    "\n",
    "def introduce_mutations(seq, k):\n",
    "    nucleotides = ['A', 'T', 'C', 'G']\n",
    "    seq_list = list(seq)\n",
    "    for _ in range(k):\n",
    "        pos = random.randint(0, len(seq_list) - 1)\n",
    "        new_nucleotide = random.choice([n for n in nucleotides if n != seq_list[pos]])\n",
    "        seq_list[pos] = new_nucleotide\n",
    "    return ''.join(seq_list)\n",
    "\n",
    "X = \"AGCT\" * 100 \n",
    "\n",
    "variations = [introduce_mutations(X, 10) for _ in range(10)]\n",
    "\n",
    "from Bio.Align.Applications import ClustalOmegaCommandline\n",
    "\n",
    "# Save the sequences to a FASTA file\n",
    "with open(\"sequences.fasta\", \"w\") as output_handle:\n",
    "    for i, seq in enumerate(variations):\n",
    "        output_handle.write(f\">X{i+1}\\n{seq}\\n\")\n",
    "\n",
    "clustalomega_cline = ClustalOmegaCommandline(infile=\"sequences.fasta\", outfile=\"clustal_output.aln\", verbose=True, auto=True)\n",
    "stdout, stderr = clustalomega_cline()\n",
    "\n",
    "from Bio.Align.Applications import MuscleCommandline\n",
    "\n",
    "muscle_cline = MuscleCommandline(input=\"sequences.fasta\", out=\"muscle_output.aln\")\n",
    "stdout, stderr = muscle_cline()\n",
    "\n",
    "from Bio import AlignIO\n",
    "\n",
    "clustal_align = AlignIO.read(\"clustal_output.aln\", \"clustal\")\n",
    "muscle_align = AlignIO.read(\"muscle_output.aln\", \"fasta\")\n",
    "\n",
    "print(\"Clustal Omega alignment length:\", clustal_align.get_alignment_length())\n",
    "print(\"MUSCLE alignment length:\", muscle_align.get_alignment_length())\n",
    "\n",
    "import time\n",
    "\n",
    "start_time = time.time()\n",
    "clustalomega_cline()\n",
    "clustal_time = time.time() - start_time\n",
    "\n",
    "start_time = time.time()\n",
    "muscle_cline()\n",
    "muscle_time = time.time() - start_time\n",
    "\n",
    "print(f\"Clustal Omega Time: {clustal_time} seconds\")\n",
    "print(f\"MUSCLE Time: {muscle_time} seconds\")\n",
    "\n"
   ]
  }
 ],
 "metadata": {
  "kernelspec": {
   "display_name": "Python 3 (ipykernel)",
   "language": "python",
   "name": "python3"
  },
  "language_info": {
   "codemirror_mode": {
    "name": "ipython",
    "version": 3
   },
   "file_extension": ".py",
   "mimetype": "text/x-python",
   "name": "python",
   "nbconvert_exporter": "python",
   "pygments_lexer": "ipython3",
   "version": "3.10.10"
  }
 },
 "nbformat": 4,
 "nbformat_minor": 5
}
